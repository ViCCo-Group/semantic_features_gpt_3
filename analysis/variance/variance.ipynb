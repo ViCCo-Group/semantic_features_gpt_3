{
 "cells": [
  {
   "cell_type": "code",
   "execution_count": null,
   "metadata": {},
   "outputs": [],
   "source": [
    "import sys \n",
    "import os \n",
    "\n",
    "sys.path.append('../..')\n",
    "\n",
    "DATA_DIR = '../../data'\n",
    "os.environ['DATA_DIR'] = DATA_DIR"
   ]
  }
 ],
 "metadata": {
  "language_info": {
   "name": "python"
  },
  "orig_nbformat": 4
 },
 "nbformat": 4,
 "nbformat_minor": 2
}
