{
 "cells": [
  {
   "cell_type": "code",
   "execution_count": 17,
   "metadata": {},
   "outputs": [],
   "source": [
    "import pandas as pd\n",
    "import matplotlib.pyplot as plt \n",
    "\n",
    "from sklearn.metrics import accuracy_score"
   ]
  },
  {
   "cell_type": "code",
   "execution_count": 9,
   "metadata": {},
   "outputs": [],
   "source": [
    "def read_ground_truth(sample_id):\n",
    "    truth = pd.read_csv(f'sample_with_true_source_{sample_id}.csv')\n",
    "    return truth\n",
    "\n",
    "def read_prediction(sample_id):\n",
    "    pred = pd.read_csv(f'sample_{sample_id}.csv')[['index', 'prediction']]\n",
    "    return pred\n",
    "\n",
    "def merge_truth_and_pred(truth, pred):\n",
    "    return truth.merge(pred, on='index')"
   ]
  },
  {
   "cell_type": "code",
   "execution_count": 15,
   "metadata": {},
   "outputs": [
    {
     "data": {
      "text/html": [
       "<div>\n",
       "<style scoped>\n",
       "    .dataframe tbody tr th:only-of-type {\n",
       "        vertical-align: middle;\n",
       "    }\n",
       "\n",
       "    .dataframe tbody tr th {\n",
       "        vertical-align: top;\n",
       "    }\n",
       "\n",
       "    .dataframe thead th {\n",
       "        text-align: right;\n",
       "    }\n",
       "</style>\n",
       "<table border=\"1\" class=\"dataframe\">\n",
       "  <thead>\n",
       "    <tr style=\"text-align: right;\">\n",
       "      <th></th>\n",
       "      <th>index</th>\n",
       "      <th>concept_id</th>\n",
       "      <th>feature</th>\n",
       "      <th>name</th>\n",
       "      <th>source</th>\n",
       "      <th>prediction</th>\n",
       "    </tr>\n",
       "  </thead>\n",
       "  <tbody>\n",
       "    <tr>\n",
       "      <th>0</th>\n",
       "      <td>0</td>\n",
       "      <td>flask</td>\n",
       "      <td>is used to travel</td>\n",
       "      <td>gpt_3_filtered</td>\n",
       "      <td>gpt</td>\n",
       "      <td>gpt</td>\n",
       "    </tr>\n",
       "    <tr>\n",
       "      <th>1</th>\n",
       "      <td>1</td>\n",
       "      <td>wasp</td>\n",
       "      <td>has big eyes</td>\n",
       "      <td>cslb</td>\n",
       "      <td>human</td>\n",
       "      <td>gpt</td>\n",
       "    </tr>\n",
       "    <tr>\n",
       "      <th>2</th>\n",
       "      <td>2</td>\n",
       "      <td>coat_rack</td>\n",
       "      <td>has a top</td>\n",
       "      <td>gpt_3_filtered</td>\n",
       "      <td>gpt</td>\n",
       "      <td>gpt</td>\n",
       "    </tr>\n",
       "    <tr>\n",
       "      <th>3</th>\n",
       "      <td>3</td>\n",
       "      <td>tent</td>\n",
       "      <td>has a pole</td>\n",
       "      <td>gpt_3_unfiltered</td>\n",
       "      <td>gpt</td>\n",
       "      <td>gpt</td>\n",
       "    </tr>\n",
       "  </tbody>\n",
       "</table>\n",
       "</div>"
      ],
      "text/plain": [
       "   index concept_id            feature              name source prediction\n",
       "0      0      flask  is used to travel    gpt_3_filtered    gpt        gpt\n",
       "1      1       wasp       has big eyes              cslb  human        gpt\n",
       "2      2  coat_rack          has a top    gpt_3_filtered    gpt        gpt\n",
       "3      3       tent         has a pole  gpt_3_unfiltered    gpt        gpt"
      ]
     },
     "execution_count": 15,
     "metadata": {},
     "output_type": "execute_result"
    }
   ],
   "source": [
    "truth = read_ground_truth(1)\n",
    "pred = read_prediction(1)\n",
    "result = merge_truth_and_pred(truth, pred)\n",
    "result"
   ]
  },
  {
   "cell_type": "code",
   "execution_count": 18,
   "metadata": {},
   "outputs": [
    {
     "name": "stdout",
     "output_type": "stream",
     "text": [
      "0.0\n",
      "1.0\n"
     ]
    }
   ],
   "source": [
    "for source in ['human', 'gpt']:\n",
    "    result_source = result[result['source'] == source]\n",
    "    precision = accuracy_score(result_source['source'], result_source['prediction'])\n",
    "    print(precision)"
   ]
  },
  {
   "cell_type": "code",
   "execution_count": 13,
   "metadata": {},
   "outputs": [
    {
     "data": {
      "text/plain": [
       "<AxesSubplot:>"
      ]
     },
     "execution_count": 13,
     "metadata": {},
     "output_type": "execute_result"
    },
    {
     "data": {
      "image/png": "[encoded data removed]",
      "text/plain": [
       "<Figure size 432x288 with 1 Axes>"
      ]
     },
     "metadata": {
      "needs_background": "light"
     },
     "output_type": "display_data"
    }
   ],
   "source": [
    "truth['source'].hist()"
   ]
  }
 ],
 "metadata": {
  "interpreter": {
   "hash": "69bbc8a61151a626d9131c945f79b1d3b7a273f7c9919d5e4680ea5234d3a94f"
  },
  "kernelspec": {
   "display_name": "Python 3.9.7 64-bit ('features': conda)",
   "language": "python",
   "name": "python3"
  },
  "language_info": {
   "codemirror_mode": {
    "name": "ipython",
    "version": 3
   },
   "file_extension": ".py",
   "mimetype": "text/x-python",
   "name": "python",
   "nbconvert_exporter": "python",
   "pygments_lexer": "ipython3",
   "version": "3.9.7"
  },
  "orig_nbformat": 4
 },
 "nbformat": 4,
 "nbformat_minor": 2
}
