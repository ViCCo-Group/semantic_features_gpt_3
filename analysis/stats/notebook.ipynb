{
 "cells": [
  {
   "cell_type": "code",
   "execution_count": null,
   "metadata": {},
   "outputs": [],
   "source": [
    "from utils.correlation import calc_correlation, vectorize_concepts\n",
    "from utils.data import load_data, load_gpt, load_cslb, load_sorting, load_mcrae, generate_concepts_to_keep\n",
    "import spacy\n",
    "import numpy as np\n",
    "import pandas as pd\n",
    "import matplotlib.pyplot as plt \n",
    "\n",
    "from scipy.spatial.distance import squareform\n",
    "from sklearn.metrics.pairwise import cosine_similarity\n",
    "import seaborn as sns\n",
    "\n",
    "\n",
    "nlp = spacy.load(\"en_core_web_sm\")"
   ]
  },
  {
   "cell_type": "code",
   "execution_count": null,
   "metadata": {},
   "outputs": [],
   "source": [
    "def stats(df):\n",
    "    n_features = df.shape[0]\n",
    "    n_concepts = df['concept_id'].unique().shape[0]\n",
    "    n_unique_features = df['feature'].unique().shape[0]\n",
    "    mean_amount_features_per_concept = df.groupby('concept_id').agg({'feature': 'count'})['feature'].mean()\n",
    "    mean_amount_of_concepts_per_feature = df.groupby('feature').agg({'concept_id': 'count'})['concept_id'].mean()\n",
    "    print(f'Amount of features: {n_features}')\n",
    "    print(f'Amount of concepts: {n_concepts}')\n",
    "    print(f'Amount of unique features: {n_unique_features}')\n",
    "    print(f'Mean amount of feature per concept: {mean_amount_features_per_concept}')\n",
    "    print(f'Share of unique features to all features: {(n_unique_features/n_features)*100}')\n",
    "    print(f'Mean amount of concepts per feature: {mean_amount_of_concepts_per_feature}')\n",
    "    #TODO NoSF\n",
    "    df_amount_concepts = df.groupby('feature', as_index=False).agg({'concept_id': 'count'}).rename(columns={'concept_id': 'concept_count'})\n",
    "    df = df.merge(df_amount_concepts, on='feature', how='left')\n",
    "    df = df[df['concept_count'] >= 3]\n",
    "    mean_amount_shared_features_per_concept = df.groupby('concept_id').agg({'feature': 'count'})['feature'].mean()\n",
    "    print(f'Mean amount of shared features per concept: {mean_amount_shared_features_per_concept}')\n",
    "    \n",
    "    return n_features, n_concepts, n_unique_features, mean_amount_features_per_concept, mean_amount_of_concepts_per_feature, mean_amount_shared_features_per_concept\n"
   ]
  },
  {
   "cell_type": "code",
   "execution_count": null,
   "metadata": {},
   "outputs": [],
   "source": [
    "cslb_df = load_cslb(False)\n",
    "gpt_df = load_gpt(1, False, 1,1, True)\n",
    "mc_df = load_mcrae(False, False)\n",
    "\n",
    "print('Stats for CSLB')\n",
    "stats(cslb_df)\n",
    "print('\\n')\n",
    "\n",
    "print('Stats for GPT with duplicates')\n",
    "stats(gpt_df)\n",
    "print('\\n')\n",
    "\n",
    "print('Stats for GPT without duplicates')\n",
    "gpt_df_without_dup = load_gpt(4, False, 1, 1, False)\n",
    "stats(gpt_df_without_dup)\n",
    "print('\\n')\n",
    "\n",
    "print('Stats for GPT without duplicates and no filter')\n",
    "gpt_df_without_dup_no = load_gpt(1, False, 1, 1, False)\n",
    "stats(gpt_df_without_dup_no)\n",
    "print('\\n')\n",
    "\n",
    "print('Stats for McRae without duplicates')\n",
    "stats(mc_df)\n"
   ]
  }
 ],
 "metadata": {
  "language_info": {
   "name": "python"
  },
  "orig_nbformat": 4
 },
 "nbformat": 4,
 "nbformat_minor": 2
}
