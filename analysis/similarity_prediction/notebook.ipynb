{
 "cells": [
  {
   "cell_type": "code",
   "execution_count": 2,
   "id": "1228e4cb",
   "metadata": {},
   "outputs": [
    {
     "ename": "ImportError",
     "evalue": "attempted relative import with no known parent package",
     "output_type": "error",
     "traceback": [
      "\u001b[0;31m---------------------------------------------------------------------------\u001b[0m",
      "\u001b[0;31mImportError\u001b[0m                               Traceback (most recent call last)",
      "\u001b[0;32m/tmp/ipykernel_43438/3273724430.py\u001b[0m in \u001b[0;36m<module>\u001b[0;34m\u001b[0m\n\u001b[0;32m----> 1\u001b[0;31m \u001b[0;32mfrom\u001b[0m \u001b[0;34m.\u001b[0m\u001b[0;34m.\u001b[0m\u001b[0mutils\u001b[0m\u001b[0;34m.\u001b[0m\u001b[0mcorrelation\u001b[0m \u001b[0;32mimport\u001b[0m \u001b[0mcalc_correlation\u001b[0m\u001b[0;34m,\u001b[0m \u001b[0mvectorize_concepts\u001b[0m\u001b[0;34m\u001b[0m\u001b[0;34m\u001b[0m\u001b[0m\n\u001b[0m\u001b[1;32m      2\u001b[0m \u001b[0;32mfrom\u001b[0m \u001b[0mutils\u001b[0m\u001b[0;34m.\u001b[0m\u001b[0mdata\u001b[0m \u001b[0;32mimport\u001b[0m \u001b[0mload_data\u001b[0m\u001b[0;34m,\u001b[0m \u001b[0mload_gpt\u001b[0m\u001b[0;34m,\u001b[0m \u001b[0mload_cslb\u001b[0m\u001b[0;34m,\u001b[0m \u001b[0mload_sorting\u001b[0m\u001b[0;34m,\u001b[0m \u001b[0mload_cslb_count_vec\u001b[0m\u001b[0;34m,\u001b[0m \u001b[0mload_mcrae\u001b[0m\u001b[0;34m,\u001b[0m \u001b[0mgenerate_concepts_to_keep\u001b[0m\u001b[0;34m,\u001b[0m \u001b[0mmatch_behv_sim\u001b[0m\u001b[0;34m,\u001b[0m \u001b[0mload_behav\u001b[0m\u001b[0;34m\u001b[0m\u001b[0;34m\u001b[0m\u001b[0m\n\u001b[1;32m      3\u001b[0m \u001b[0;32mimport\u001b[0m \u001b[0mspacy\u001b[0m\u001b[0;34m\u001b[0m\u001b[0;34m\u001b[0m\u001b[0m\n\u001b[1;32m      4\u001b[0m \u001b[0;32mimport\u001b[0m \u001b[0mnumpy\u001b[0m \u001b[0;32mas\u001b[0m \u001b[0mnp\u001b[0m\u001b[0;34m\u001b[0m\u001b[0;34m\u001b[0m\u001b[0m\n\u001b[1;32m      5\u001b[0m \u001b[0;32mimport\u001b[0m \u001b[0mpandas\u001b[0m \u001b[0;32mas\u001b[0m \u001b[0mpd\u001b[0m\u001b[0;34m\u001b[0m\u001b[0;34m\u001b[0m\u001b[0m\n",
      "\u001b[0;31mImportError\u001b[0m: attempted relative import with no known parent package"
     ]
    }
   ],
   "source": [
    "from correlation import calc_correlation, vectorize_concepts\n",
    "from utils.data import load_data, load_gpt, load_cslb, load_sorting, load_cslb_count_vec, load_mcrae, generate_concepts_to_keep, match_behv_sim, load_behav\n",
    "import spacy\n",
    "import numpy as np\n",
    "import pandas as pd\n",
    "import matplotlib.pyplot as plt \n",
    "\n",
    "from scipy.spatial.distance import squareform\n",
    "from sklearn.metrics.pairwise import cosine_similarity\n",
    "import seaborn as sns\n",
    "\n",
    "nlp = spacy.load(\"en_core_web_sm\")\n",
    "\n",
    "from os.path import join as pjoin\n",
    "\n"
   ]
  },
  {
   "cell_type": "code",
   "execution_count": 2,
   "id": "5f238df7",
   "metadata": {},
   "outputs": [],
   "source": [
    "def sort(df):\n",
    "    sorted_df = sorting_df.reset_index().set_index('concept_id')\n",
    "    df['concept_num'] = df.index.map(sorted_df['index'])\n",
    "    df = df.sort_values(by='concept_num')\n",
    "    df = df.drop('concept_num', axis=1)\n",
    "    return df\n",
    "\n",
    "def vec(gpt_df, cslb_df, mc_df, behv_sim, bert_df, vec = 'binary'):\n",
    "    gpt_vec = vectorize_concepts(gpt_df, load_sorting(), 'bla', vec)\n",
    "    cslb_vec = vectorize_concepts(cslb_df, load_sorting(), 'bla', vec)\n",
    "    mc_vec = vectorize_concepts(mc_df, load_sorting(), 'bla', vec)\n",
    "    bert_vec = vectorize_concepts(bert_df, load_sorting(), 'bla', vec)\n",
    "\n",
    "    if vec == 'count':\n",
    "        cslb_vec = load_cslb_count_vec()\n",
    "\n",
    "    intersection_concepts = generate_concepts_to_keep(gpt_df, mc_df, cslb_df, bert_df, 'intersection')\n",
    "    gpt_vec = gpt_vec.loc[intersection_concepts]\n",
    "    cslb_vec = cslb_vec.loc[intersection_concepts]\n",
    "    mc_vec = mc_vec.loc[intersection_concepts]\n",
    "    bert_vec = bert_vec.loc[intersection_concepts]\n",
    "    behv_sim = match_behv_sim(behv_sim, intersection_concepts, load_sorting())\n",
    "    gpt_vec = sort(gpt_vec)\n",
    "    cslb_vec = sort(cslb_vec)\n",
    "    mc_vec = sort(mc_vec)\n",
    "    bert_vec = sort(bert_vec)\n",
    "    \n",
    "    return gpt_vec, cslb_vec, mc_vec, behv_sim, bert_vec"
   ]
  },
  {
   "cell_type": "markdown",
   "id": "80dfea5d",
   "metadata": {},
   "source": [
    "# Load data "
   ]
  },
  {
   "cell_type": "code",
   "execution_count": 3,
   "id": "341b8ee6",
   "metadata": {},
   "outputs": [
    {
     "name": "stderr",
     "output_type": "stream",
     "text": [
      "/home/hannes/anaconda3/envs/features/lib/python3.9/site-packages/openpyxl/worksheet/_reader.py:312: UserWarning: Unknown extension is not supported and will be removed\n",
      "  warn(msg)\n",
      "/home/hannes/anaconda3/envs/features/lib/python3.9/site-packages/sklearn/utils/deprecation.py:87: FutureWarning: Function get_feature_names is deprecated; get_feature_names is deprecated in 1.0 and will be removed in 1.2. Please use get_feature_names_out instead.\n",
      "  warnings.warn(msg, category=FutureWarning)\n"
     ]
    },
    {
     "name": "stdout",
     "output_type": "stream",
     "text": [
      "Amount of concepts to keep: 317\n"
     ]
    }
   ],
   "source": [
    "# Vectorization is done here with ALL features \n",
    "gpt_df, mc_df, behv_sim_all, cslb_df, sorting_df, bert_df = load_data(True, True, 4, 1, None, True, 1, True)\n",
    "gpt_vec, cslb_vec, mc_vec, behv_sim, bert_vec = vec(gpt_df, cslb_df, mc_df, behv_sim_all, bert_df, 'count')\n"
   ]
  },
  {
   "cell_type": "code",
   "execution_count": null,
   "id": "48619637",
   "metadata": {},
   "outputs": [],
   "source": [
    "gpt_df['feature'].hist()"
   ]
  },
  {
   "cell_type": "code",
   "execution_count": null,
   "id": "31f9fd0c",
   "metadata": {},
   "outputs": [],
   "source": [
    "gpt_df, mc_df, behv_sim, cslb_df, sorting_df, bert_df = load_data(True, True, 4, 1, None, False, 1, True)"
   ]
  },
  {
   "cell_type": "code",
   "execution_count": null,
   "id": "7db5928d",
   "metadata": {},
   "outputs": [],
   "source": [
    "fig, ax = plt.subplots(1)\n",
    "\n",
    "bla = gpt_df.groupby('feature', as_index=False).agg({'concept_id': 'count'})\n",
    "bla = bla.sort_values(by='concept_id')\n",
    "print(bla)\n",
    "ax.plot(bla['feature'], bla['concept_id'])"
   ]
  },
  {
   "cell_type": "code",
   "execution_count": null,
   "id": "127fc2d2",
   "metadata": {},
   "outputs": [],
   "source": [
    "fig, ax = plt.subplots(1)\n",
    "\n",
    "bla = cslb_df.groupby('feature', as_index=False).agg({'concept_id': 'count'})\n",
    "bla = bla.sort_values(by='concept_id')\n",
    "print(bla)\n",
    "ax.plot(bla['feature'], bla['concept_id'])"
   ]
  },
  {
   "cell_type": "code",
   "execution_count": null,
   "id": "7b3b5264",
   "metadata": {},
   "outputs": [],
   "source": [
    "fig, ax = plt.subplots(1)\n",
    "\n",
    "bla = mc_df.groupby('feature', as_index=False).agg({'concept_id': 'count'})\n",
    "bla = bla.sort_values(by='concept_id', ascending=False)\n",
    "print(bla)\n",
    "ax.plot(bla['feature'], bla['concept_id'])\n"
   ]
  },
  {
   "cell_type": "markdown",
   "id": "ba06287a",
   "metadata": {},
   "source": [
    "# Predicting human similarity judgements"
   ]
  },
  {
   "cell_type": "markdown",
   "id": "7a030c73",
   "metadata": {},
   "source": [
    "## THINGS"
   ]
  },
  {
   "cell_type": "code",
   "execution_count": null,
   "id": "ddf0c0ea",
   "metadata": {},
   "outputs": [],
   "source": [
    "r_gpt_behav, r_cslb_behav, r_mc_behav, r_gpt_mc, r_cslb_gpt = calc_correlation(gpt_vec, mc_vec, behv_sim, cslb_vec, bert_vec)"
   ]
  },
  {
   "cell_type": "code",
   "execution_count": 20,
   "id": "48baf9ef",
   "metadata": {},
   "outputs": [
    {
     "name": "stderr",
     "output_type": "stream",
     "text": [
      "/home/hannes/anaconda3/envs/features/lib/python3.9/site-packages/sklearn/utils/deprecation.py:87: FutureWarning: Function get_feature_names is deprecated; get_feature_names is deprecated in 1.0 and will be removed in 1.2. Please use get_feature_names_out instead.\n",
      "  warnings.warn(msg, category=FutureWarning)\n"
     ]
    },
    {
     "name": "stdout",
     "output_type": "stream",
     "text": [
      "Correlation GPT and THINGS: 0.5807\n",
      "\n",
      "\n"
     ]
    }
   ],
   "source": [
    "sorting_df = load_sorting()\n",
    "gpt_df = load_gpt(1,True,1,0,True)\n",
    "gpt_vec = vectorize_concepts(gpt_df, sorting_df, 'bla', 'binary')\n",
    "gpt_vec = sort(gpt_vec)\n",
    "behv_sim = load_behav()\n",
    "r_gpt_behav, r_cslb_behav, r_mc_behav, r_gpt_mc, r_cslb_gpt = calc_correlation(gpt_vec, None, behv_sim, None, None)"
   ]
  },
  {
   "cell_type": "markdown",
   "id": "ea2479ef",
   "metadata": {},
   "source": [
    "## Model performance with more runs"
   ]
  },
  {
   "cell_type": "code",
   "execution_count": null,
   "id": "0a9a98a6",
   "metadata": {},
   "outputs": [],
   "source": [
    "min_amount_runs_feature_occured = 1\n",
    "group_to_one_concept = False\n",
    "min_amount_runs_feature_occured_within_concept = 1\n",
    "run_nr = None \n",
    "duplicates = True \n",
    "\n",
    "gpt_df = load_gpt(min_amount_runs_feature_occured, group_to_one_concept, min_amount_runs_feature_occured_within_concept, run_nr, duplicates)\n",
    "mc_df = load_mcrae(True)\n",
    "clsb_df = load_cslb(True)\n",
    "        \n",
    "r = []\n",
    "for i in range(1, 31):\n",
    "    runs = list(range(1, i+1))\n",
    "    print(runs)\n",
    "    gpt_df_temp = gpt_df[gpt_df['run_nr'].isin(runs)]\n",
    "    gpt_df_temp = gpt_df_temp.groupby('concept_id', as_index=False).agg({'feature': lambda x: ';'.join(x)})\n",
    "    \n",
    "    gpt_vec, cslb_vec, mc_vec, behv_sim_matched = vec(gpt_df_temp, clsb_df, mc_df, behv_sim, 'binary')\n",
    "    r_gpt_behav, r_cslb_behav, r_mc_behav, r_gpt_mc, r_cslb_gpt = calc_correlation(gpt_vec, mc_vec, behv_sim_matched, cslb_vec)\n",
    "    r.append(r_gpt_behav)"
   ]
  },
  {
   "cell_type": "code",
   "execution_count": null,
   "id": "67fd9907",
   "metadata": {},
   "outputs": [],
   "source": [
    "plt.plot(range(1, len(r) + 1), r)"
   ]
  },
  {
   "cell_type": "markdown",
   "id": "dede006c",
   "metadata": {},
   "source": [
    "## Wrd Similarity and relatedness"
   ]
  },
  {
   "cell_type": "code",
   "execution_count": null,
   "id": "ec7888d7",
   "metadata": {},
   "outputs": [],
   "source": [
    "gpt_df, mc_df, behv_sim, cslb_df, sorting_df, bert_df = load_data(True, True, 4, 1, None, True, 1, True)\n",
    "gpt_vec, cslb_vec, mc_vec, behv_sim, bert_sim = vec(gpt_df, cslb_df, mc_df, behv_sim, bert_df, 'count')"
   ]
  },
  {
   "cell_type": "code",
   "execution_count": 3,
   "id": "62e5bb68",
   "metadata": {},
   "outputs": [
    {
     "ename": "NameError",
     "evalue": "name 'pd' is not defined",
     "output_type": "error",
     "traceback": [
      "\u001b[0;31m---------------------------------------------------------------------------\u001b[0m",
      "\u001b[0;31mNameError\u001b[0m                                 Traceback (most recent call last)",
      "\u001b[0;32m/tmp/ipykernel_43438/4292861754.py\u001b[0m in \u001b[0;36m<module>\u001b[0;34m\u001b[0m\n\u001b[0;32m----> 1\u001b[0;31m \u001b[0mwordsim\u001b[0m \u001b[0;34m=\u001b[0m \u001b[0mpd\u001b[0m\u001b[0;34m.\u001b[0m\u001b[0mread_csv\u001b[0m\u001b[0;34m(\u001b[0m\u001b[0;34m'/wordsim353/combined.csv'\u001b[0m\u001b[0;34m)\u001b[0m\u001b[0;34m\u001b[0m\u001b[0;34m\u001b[0m\u001b[0m\n\u001b[0m\u001b[1;32m      2\u001b[0m \u001b[0mwordsim\u001b[0m \u001b[0;34m=\u001b[0m \u001b[0mwordsim\u001b[0m\u001b[0;34m.\u001b[0m\u001b[0mrename\u001b[0m\u001b[0;34m(\u001b[0m\u001b[0mcolumns\u001b[0m\u001b[0;34m=\u001b[0m\u001b[0;34m{\u001b[0m\u001b[0;34m'Word 1'\u001b[0m\u001b[0;34m:\u001b[0m \u001b[0;34m'word1'\u001b[0m\u001b[0;34m,\u001b[0m \u001b[0;34m'Word 2'\u001b[0m\u001b[0;34m:\u001b[0m \u001b[0;34m'word2'\u001b[0m\u001b[0;34m,\u001b[0m \u001b[0;34m'Human (mean)'\u001b[0m\u001b[0;34m:\u001b[0m \u001b[0;34m'rating'\u001b[0m\u001b[0;34m}\u001b[0m\u001b[0;34m)\u001b[0m\u001b[0;34m\u001b[0m\u001b[0;34m\u001b[0m\u001b[0m\n\u001b[1;32m      3\u001b[0m \u001b[0msimlex\u001b[0m \u001b[0;34m=\u001b[0m \u001b[0mpd\u001b[0m\u001b[0;34m.\u001b[0m\u001b[0mread_csv\u001b[0m\u001b[0;34m(\u001b[0m\u001b[0;34m'input_data/simlex999/SimLex-999.txt'\u001b[0m\u001b[0;34m,\u001b[0m \u001b[0msep\u001b[0m\u001b[0;34m=\u001b[0m\u001b[0;34m'\\t'\u001b[0m\u001b[0;34m,\u001b[0m \u001b[0musecols\u001b[0m\u001b[0;34m=\u001b[0m\u001b[0;34m[\u001b[0m\u001b[0;34m'word1'\u001b[0m\u001b[0;34m,\u001b[0m \u001b[0;34m'word2'\u001b[0m\u001b[0;34m,\u001b[0m \u001b[0;34m'SimLex999'\u001b[0m\u001b[0;34m]\u001b[0m\u001b[0;34m)\u001b[0m\u001b[0;34m\u001b[0m\u001b[0;34m\u001b[0m\u001b[0m\n\u001b[1;32m      4\u001b[0m \u001b[0msimlex\u001b[0m \u001b[0;34m=\u001b[0m \u001b[0msimlex\u001b[0m\u001b[0;34m.\u001b[0m\u001b[0mrename\u001b[0m\u001b[0;34m(\u001b[0m\u001b[0mcolumns\u001b[0m\u001b[0;34m=\u001b[0m\u001b[0;34m{\u001b[0m\u001b[0;34m'SimLex999'\u001b[0m\u001b[0;34m:\u001b[0m \u001b[0;34m'rating'\u001b[0m\u001b[0;34m}\u001b[0m\u001b[0;34m)\u001b[0m\u001b[0;34m\u001b[0m\u001b[0;34m\u001b[0m\u001b[0m\n\u001b[1;32m      5\u001b[0m \u001b[0mmen\u001b[0m \u001b[0;34m=\u001b[0m \u001b[0mpd\u001b[0m\u001b[0;34m.\u001b[0m\u001b[0mread_csv\u001b[0m\u001b[0;34m(\u001b[0m\u001b[0;34m'input_data/men/MEN_dataset_natural_form_full'\u001b[0m\u001b[0;34m,\u001b[0m \u001b[0msep\u001b[0m\u001b[0;34m=\u001b[0m\u001b[0;34m' '\u001b[0m\u001b[0;34m,\u001b[0m \u001b[0mnames\u001b[0m\u001b[0;34m=\u001b[0m\u001b[0;34m[\u001b[0m\u001b[0;34m'word1'\u001b[0m\u001b[0;34m,\u001b[0m \u001b[0;34m'word2'\u001b[0m\u001b[0;34m,\u001b[0m \u001b[0;34m'rating'\u001b[0m\u001b[0;34m]\u001b[0m\u001b[0;34m,\u001b[0m \u001b[0mheader\u001b[0m\u001b[0;34m=\u001b[0m\u001b[0;32mNone\u001b[0m\u001b[0;34m)\u001b[0m\u001b[0;34m\u001b[0m\u001b[0;34m\u001b[0m\u001b[0m\n",
      "\u001b[0;31mNameError\u001b[0m: name 'pd' is not defined"
     ]
    }
   ],
   "source": [
    "human_sim_judgements = './human_sim_judgements'\n",
    "wordsim = pd.read_csv(pjoin(human_sim_judgements, '/wordsim353/combined.csv'))\n",
    "wordsim = wordsim.rename(columns={'Word 1': 'word1', 'Word 2': 'word2', 'Human (mean)': 'rating'})\n",
    "simlex = pd.read_csv(pjoin(human_sim_judgements, 'simlex999/SimLex-999.txt'), sep='\\t', usecols=['word1', 'word2', 'SimLex999'])\n",
    "simlex = simlex.rename(columns={'SimLex999': 'rating'})\n",
    "men = pd.read_csv(pjoin(human_sim_judgements, 'men/MEN_dataset_natural_form_full'), sep=' ', names=['word1', 'word2', 'rating'], header=None)\n",
    "yp = pd.read_csv(pjoin(human_sim_judgements, 'yp/yp-130.csv'))\n",
    "yp = yp.rename(columns={'similarity': 'rating'})\n",
    "\n",
    "mturk771 = pd.read_csv(pjoin(human_sim_judgements, 'mturk_771/mturk-771.csv'))\n",
    "mturk771 = mturk771.rename(columns={'similarity': 'rating'})\n",
    "\n",
    "mturk287 = pd.read_csv(pjoin(human_sim_judgements, 'mturk_287/mturk-287.csv'))\n",
    "mturk287 = mturk287.rename(columns={'similarity': 'rating'})\n",
    "\n",
    "rw = pd.read_csv(pjoin(human_sim_judgements, 'rw/rw.csv'))\n",
    "rw = rw.rename(columns={'similarity': 'rating'})\n",
    "                 "
   ]
  },
  {
   "cell_type": "code",
   "execution_count": null,
   "id": "135627ae",
   "metadata": {},
   "outputs": [],
   "source": [
    "def calc_pair_sim(df_vec, concept1, concept2, out_of_category_concepts):\n",
    "    print(f'{concept1} {concept2} {out_of_category_concepts}')\n",
    "    df1 = pd.DataFrame(df_vec.loc[concept1]).transpose()\n",
    "    df2 = pd.DataFrame(df_vec.loc[concept2]).transpose()\n",
    "    sim = cosine_similarity(df1, df2)[0][0]\n",
    "    \n",
    "    out_sims = []\n",
    "    for out in out_of_category_concepts:\n",
    "        df1 = pd.DataFrame(df_vec.loc[concept1]).transpose()\n",
    "        df2 = pd.DataFrame(df_vec.loc[concept2]).transpose()\n",
    "        df3 = pd.DataFrame(df_vec.loc[out]).transpose()\n",
    "        out_sim = cosine_similarity(df1, df3)\n",
    "        out_sims.append(out_sim)\n",
    "        out_sim = cosine_similarity(df2, df3)\n",
    "        out_sims.append(out_sim)\n",
    "    \n",
    "    mean = np.asarray(out_sims).mean()\n",
    "    return sim - mean"
   ]
  },
  {
   "cell_type": "code",
   "execution_count": null,
   "id": "c0a3b6f5",
   "metadata": {
    "scrolled": false
   },
   "outputs": [],
   "source": [
    "for dataset_name, wordsim_df in (('wordsim-353', wordsim), \n",
    "                                 ('simlex-999', simlex), \n",
    "                                 ('men', men),\n",
    "                                 ('mturk-771', mturk771),\n",
    "                                 ('mturk-287', mturk287),\n",
    "                                 ('rw', rw),\n",
    "                                 ('yp', yp)):\n",
    "    ratings = []\n",
    "    gpt_similarities = []\n",
    "    cslb_similarities = []\n",
    "    mc_similarities = []\n",
    "    \n",
    "    for row in wordsim_df.iterrows():\n",
    "        word1 = row[1]['word1'].lower()\n",
    "        word2 = row[1]['word2'].lower()\n",
    "        rating = row[1]['rating']\n",
    "        \n",
    "        gpt_words = gpt_vec.index\n",
    "        \n",
    "        if word1 not in gpt_words:\n",
    "            word1 = f'{word1}1'\n",
    "            \n",
    "        if word2 not in gpt_words:\n",
    "            word2 = f'{word2}1'\n",
    "        \n",
    "       \n",
    "        word1_in_gpt_cslb = word1 in gpt_words and word1 in cslb_vec.index and word1 in mc_vec.index\n",
    "        word2_in_gpt_cslb = word2 in gpt_words and word2 in cslb_vec.index and word2 in mc_vec.index\n",
    "        \n",
    "        \n",
    "        if word1_in_gpt_cslb and word2_in_gpt_cslb:\n",
    "            ratings.append(rating)\n",
    "\n",
    "            gpt_sim = calc_pair_sim(gpt_vec, word1, word2)\n",
    "            gpt_similarities.append(gpt_sim)\n",
    "\n",
    "            cslb_sim = calc_pair_sim(cslb_vec, word1, word2)\n",
    "            cslb_similarities.append(cslb_sim)\n",
    "            \n",
    "            mc_sim = calc_pair_sim(mc_vec, word1, word2)\n",
    "            mc_similarities.append(mc_sim)\n",
    "    \n",
    "    corr_cslb = np.corrcoef(cslb_similarities, ratings)[1][0]\n",
    "    corr_gpt = np.corrcoef(gpt_similarities, ratings)[1][0]\n",
    "    corr_mc = np.corrcoef(mc_similarities, ratings)[1][0]\n",
    "    print(f'Dataset {dataset_name} has {len(ratings)} intersection word pairs and correlation of GPT-Dataset is {corr_gpt:.3} and CSLB-Dataset is {corr_cslb:.3}  Mc-Dataset is {corr_mc:.3}')\n",
    "        \n"
   ]
  }
 ],
 "metadata": {
  "kernelspec": {
   "display_name": "Python 3 (ipykernel)",
   "language": "python",
   "name": "python3"
  },
  "language_info": {
   "codemirror_mode": {
    "name": "ipython",
    "version": 3
   },
   "file_extension": ".py",
   "mimetype": "text/x-python",
   "name": "python",
   "nbconvert_exporter": "python",
   "pygments_lexer": "ipython3",
   "version": "3.9.7"
  }
 },
 "nbformat": 4,
 "nbformat_minor": 5
}
