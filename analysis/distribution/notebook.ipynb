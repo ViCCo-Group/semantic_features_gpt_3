{
 "cells": [
  {
   "cell_type": "code",
   "execution_count": 6,
   "id": "1228e4cb",
   "metadata": {},
   "outputs": [],
   "source": [
    "import sys \n",
    "import os \n",
    "\n",
    "sys.path.append('../..')\n",
    "\n",
    "DATA_DIR = '../../data'\n",
    "os.environ['DATA_DIR'] = DATA_DIR\n",
    "\n",
    "from utils.correlation import calc_correlation, vectorize_concepts\n",
    "from utils.data import load_data, load_gpt, load_cslb, load_sorting, load_cslb_count_vec, load_mcrae, generate_concepts_to_keep, match_behv_sim, load_behav\n",
    "\n",
    "import spacy\n",
    "import numpy as np\n",
    "import pandas as pd\n",
    "import matplotlib.pyplot as plt \n",
    "\n",
    "from scipy.spatial.distance import squareform\n",
    "from sklearn.metrics.pairwise import cosine_similarity\n",
    "import seaborn as sns\n",
    "import scipy\n",
    "\n",
    "nlp = spacy.load(\"en_core_web_sm\")\n",
    "\n",
    "DATA_DIR = 'labels'"
   ]
  },
  {
   "cell_type": "markdown",
   "id": "4f795323",
   "metadata": {},
   "source": [
    "# Label Distribution"
   ]
  },
  {
   "cell_type": "code",
   "execution_count": 4,
   "id": "55e02bc6",
   "metadata": {},
   "outputs": [
    {
     "data": {
      "text/html": [
       "<div>\n",
       "<style scoped>\n",
       "    .dataframe tbody tr th:only-of-type {\n",
       "        vertical-align: middle;\n",
       "    }\n",
       "\n",
       "    .dataframe tbody tr th {\n",
       "        vertical-align: top;\n",
       "    }\n",
       "\n",
       "    .dataframe thead th {\n",
       "        text-align: right;\n",
       "    }\n",
       "</style>\n",
       "<table border=\"1\" class=\"dataframe\">\n",
       "  <thead>\n",
       "    <tr style=\"text-align: right;\">\n",
       "      <th></th>\n",
       "      <th>feature</th>\n",
       "      <th>amount</th>\n",
       "      <th>label</th>\n",
       "    </tr>\n",
       "  </thead>\n",
       "  <tbody>\n",
       "    <tr>\n",
       "      <th>1054</th>\n",
       "      <td>has fur hair</td>\n",
       "      <td>18.0</td>\n",
       "      <td>conceptual</td>\n",
       "    </tr>\n",
       "    <tr>\n",
       "      <th>9</th>\n",
       "      <td>does bark</td>\n",
       "      <td>17.0</td>\n",
       "      <td>encyclopaedic</td>\n",
       "    </tr>\n",
       "    <tr>\n",
       "      <th>855</th>\n",
       "      <td>has a tail</td>\n",
       "      <td>16.0</td>\n",
       "      <td>conceptual</td>\n",
       "    </tr>\n",
       "    <tr>\n",
       "      <th>1444</th>\n",
       "      <td>is a pet</td>\n",
       "      <td>15.0</td>\n",
       "      <td>taxonomic</td>\n",
       "    </tr>\n",
       "    <tr>\n",
       "      <th>1549</th>\n",
       "      <td>is an animal</td>\n",
       "      <td>14.0</td>\n",
       "      <td>taxonomic</td>\n",
       "    </tr>\n",
       "  </tbody>\n",
       "</table>\n",
       "</div>"
      ],
      "text/plain": [
       "           feature  amount          label\n",
       "1054  has fur hair    18.0     conceptual\n",
       "9        does bark    17.0  encyclopaedic\n",
       "855     has a tail    16.0     conceptual\n",
       "1444      is a pet    15.0      taxonomic\n",
       "1549  is an animal    14.0      taxonomic"
      ]
     },
     "execution_count": 4,
     "metadata": {},
     "output_type": "execute_result"
    }
   ],
   "source": [
    "cslb_df = load_cslb_count_vec()\n",
    "a = pd.DataFrame(cslb_df.loc['dog']).reset_index().rename(columns={'index': 'feature', 'dog': 'amount'})\n",
    "a = a.sort_values(by='amount', ascending=False)\n",
    "a = a[:5]\n",
    "a['feature'] = a['feature'].apply(lambda feature: feature.replace('_', ' '))\n",
    "a['label'] = a['feature'].apply(get_feature_label)\n",
    "\n",
    "a"
   ]
  },
  {
   "cell_type": "code",
   "execution_count": 3,
   "id": "1e534d98",
   "metadata": {},
   "outputs": [],
   "source": [
    "colors = {\n",
    "    'encyclopaedic': '#93C47D',\n",
    "    'functional': '#FFD966',\n",
    "    'conceptual': '#6D9EEB',\n",
    "    'other perceptual': '#FF00FF',\n",
    "    'visual': '#DD7E6B',\n",
    "    'taxonomic': '#F6B26B' \n",
    "}\n"
   ]
  },
  {
   "cell_type": "code",
   "execution_count": 4,
   "id": "9e6b56de",
   "metadata": {},
   "outputs": [],
   "source": [
    "gpt_label_df = pd.read_csv('labels/gpt.csv')\n",
    "cslb_label_df = pd.read_csv('labels/cslb.csv')\n",
    "mc_label_df = pd.read_csv('labels/mc.csv')"
   ]
  },
  {
   "cell_type": "markdown",
   "id": "80b9bb8e",
   "metadata": {},
   "source": [
    "# Test distribution GPT-3 and CSLB"
   ]
  },
  {
   "cell_type": "code",
   "execution_count": 7,
   "id": "6bc58c53",
   "metadata": {},
   "outputs": [
    {
     "name": "stdout",
     "output_type": "stream",
     "text": [
      "Power_divergenceResult(statistic=array([1085.01629315]), pvalue=array([2.34897824e-232]))\n"
     ]
    }
   ],
   "source": [
    "gpt_contigence = gpt_label_df.groupby('label').count()\n",
    "cslb_contigence = cslb_label_df.groupby('label').count()\n",
    "\n",
    "a = scipy.stats.chisquare(gpt_contigence, cslb_contigence)\n",
    "print(a)"
   ]
  },
  {
   "cell_type": "code",
   "execution_count": 7,
   "id": "80aea13e",
   "metadata": {},
   "outputs": [],
   "source": [
    "def plot(means, ax, confs):\n",
    "    for value,count in means.items():\n",
    "        x = []\n",
    "        y = []\n",
    "        label = str(value)\n",
    "        x.append(label)\n",
    "        y.append(count)\n",
    "        conf = confs[value]\n",
    "        \n",
    "        ax.bar(x, y, color=colors[label], yerr=[conf])\n",
    "        #ymin, ymax = 0, 0.6\n",
    "        #ax.set_ylim(ymin, ymax)"
   ]
  },
  {
   "cell_type": "code",
   "execution_count": 8,
   "id": "cbfa9c01",
   "metadata": {},
   "outputs": [
    {
     "name": "stdout",
     "output_type": "stream",
     "text": [
      "defaultdict(None, {'encyclopaedic': 0.12251382192701017, 'functional': 0.12018764015005284, 'conceptual': 0.09724221207729024, 'taxonomic': 0.07230645146020179, 'visual': 0.04663605252257784, 'other perceptual': 0.021851785057609232})\n",
      "defaultdict(None, {'encyclopaedic': 0.12708816538403844, 'functional': 0.06692565531049165, 'conceptual': 0.11373893604422573, 'taxonomic': 0.07043940914190196, 'visual': 0.06169990033055809, 'other perceptual': 0.03173303094810127})\n",
      "defaultdict(None, {'encyclopaedic': 0.13047458204859105, 'functional': 0.12100218354557822, 'conceptual': 0.1049586595901773, 'taxonomic': 0.0683813139415394, 'visual': 0.06813651262389568, 'other perceptual': 0.020056588220785734})\n"
     ]
    },
    {
     "data": {
      "image/png": "[encoded data removed]",
      "text/plain": [
       "<Figure size 2160x360 with 3 Axes>"
      ]
     },
     "metadata": {
      "needs_background": "light"
     },
     "output_type": "display_data"
    }
   ],
   "source": [
    "%matplotlib inline\n",
    "from skimage import io\n",
    "import cv2\n",
    "from evaluation.labels import get_feature_label\n",
    "from matplotlib.pyplot import imshow, text\n",
    "import statistics\n",
    "from math import sqrt\n",
    "from collections import defaultdict\n",
    "\n",
    "fig, axes = plt.subplots(1,3,figsize=(30,5), sharey=True)\n",
    "\n",
    "def get_confidence_interval(df):\n",
    "    values = {\n",
    "        'encyclopaedic': [],\n",
    "        'functional': [],\n",
    "        'conceptual': [], \n",
    "        'taxonomic': [],\n",
    "        'visual': [],\n",
    "        'other perceptual': []\n",
    "    }\n",
    "    confs = defaultdict()\n",
    "    means = defaultdict()\n",
    "\n",
    "    for i in range(1000):\n",
    "        sample = df.sample(1000, replace=True)\n",
    "        hist = sample['label'].value_counts(dropna=False, normalize=True)\n",
    "        hist = hist.apply(lambda value: value * 100)\n",
    "        for label in values:\n",
    "            if label in hist:\n",
    "                values[label].append(hist.loc[label])\n",
    "\n",
    "    for label, label_values in values.items():\n",
    "        mean = statistics.mean(label_values)\n",
    "        means[label] = mean\n",
    "        stdev = statistics.stdev(label_values)\n",
    "        confidence_interval = 2.575 * stdev / sqrt(len(label_values))\n",
    "        conf = confidence_interval\n",
    "        confs[label] = conf\n",
    "\n",
    "    return confs, means\n",
    "    \n",
    "\n",
    "def plot_bar(df, ax, title):\n",
    "    fontsize = 25\n",
    "    hist = df['label'].value_counts(dropna=False, normalize=True)\n",
    "    hist = hist.apply(lambda value: value * 100)\n",
    "    confs, means = get_confidence_interval(df)\n",
    "    plot(means, ax, confs)\n",
    "    print(confs)\n",
    "\n",
    "    ax.set_title(title, fontsize=fontsize)\n",
    "    ax.set_xlabel('Feature label', fontsize=fontsize)\n",
    "    ax.tick_params(labelsize=12)\n",
    "\n",
    "\n",
    "plot_bar(gpt_label_df, axes[2], 'GPT-3 (our approach)')\n",
    "plot_bar(cslb_label_df, axes[1], 'CSLB (human generated)')\n",
    "plot_bar(mc_label_df, axes[0], 'McRae (human generated)')\n",
    "\n",
    "\n",
    "fig.savefig('labels.svg')\n",
    "plt.show()"
   ]
  }
 ],
 "metadata": {
  "kernelspec": {
   "display_name": "Python 3 (ipykernel)",
   "language": "python",
   "name": "python3"
  },
  "language_info": {
   "codemirror_mode": {
    "name": "ipython",
    "version": 3
   },
   "file_extension": ".py",
   "mimetype": "text/x-python",
   "name": "python",
   "nbconvert_exporter": "python",
   "pygments_lexer": "ipython3",
   "version": "3.9.7"
  }
 },
 "nbformat": 4,
 "nbformat_minor": 5
}
