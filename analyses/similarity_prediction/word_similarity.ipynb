{
 "cells": [
  {
   "cell_type": "code",
   "execution_count": 2,
   "id": "1228e4cb",
   "metadata": {},
   "outputs": [
    {
     "ename": "ImportError",
     "evalue": "attempted relative import with no known parent package",
     "output_type": "error",
     "traceback": [
      "\u001b[0;31m---------------------------------------------------------------------------\u001b[0m",
      "\u001b[0;31mImportError\u001b[0m                               Traceback (most recent call last)",
      "\u001b[0;32m/tmp/ipykernel_43438/3273724430.py\u001b[0m in \u001b[0;36m<module>\u001b[0;34m\u001b[0m\n\u001b[0;32m----> 1\u001b[0;31m \u001b[0;32mfrom\u001b[0m \u001b[0;34m.\u001b[0m\u001b[0;34m.\u001b[0m\u001b[0mutils\u001b[0m\u001b[0;34m.\u001b[0m\u001b[0mcorrelation\u001b[0m \u001b[0;32mimport\u001b[0m \u001b[0mcalc_correlation\u001b[0m\u001b[0;34m,\u001b[0m \u001b[0mvectorize_concepts\u001b[0m\u001b[0;34m\u001b[0m\u001b[0;34m\u001b[0m\u001b[0m\n\u001b[0m\u001b[1;32m      2\u001b[0m \u001b[0;32mfrom\u001b[0m \u001b[0mutils\u001b[0m\u001b[0;34m.\u001b[0m\u001b[0mdata\u001b[0m \u001b[0;32mimport\u001b[0m \u001b[0mload_data\u001b[0m\u001b[0;34m,\u001b[0m \u001b[0mload_gpt\u001b[0m\u001b[0;34m,\u001b[0m \u001b[0mload_cslb\u001b[0m\u001b[0;34m,\u001b[0m \u001b[0mload_sorting\u001b[0m\u001b[0;34m,\u001b[0m \u001b[0mload_cslb_count_vec\u001b[0m\u001b[0;34m,\u001b[0m \u001b[0mload_mcrae\u001b[0m\u001b[0;34m,\u001b[0m \u001b[0mgenerate_concepts_to_keep\u001b[0m\u001b[0;34m,\u001b[0m \u001b[0mmatch_behv_sim\u001b[0m\u001b[0;34m,\u001b[0m \u001b[0mload_behav\u001b[0m\u001b[0;34m\u001b[0m\u001b[0;34m\u001b[0m\u001b[0m\n\u001b[1;32m      3\u001b[0m \u001b[0;32mimport\u001b[0m \u001b[0mspacy\u001b[0m\u001b[0;34m\u001b[0m\u001b[0;34m\u001b[0m\u001b[0m\n\u001b[1;32m      4\u001b[0m \u001b[0;32mimport\u001b[0m \u001b[0mnumpy\u001b[0m \u001b[0;32mas\u001b[0m \u001b[0mnp\u001b[0m\u001b[0;34m\u001b[0m\u001b[0;34m\u001b[0m\u001b[0m\n\u001b[1;32m      5\u001b[0m \u001b[0;32mimport\u001b[0m \u001b[0mpandas\u001b[0m \u001b[0;32mas\u001b[0m \u001b[0mpd\u001b[0m\u001b[0;34m\u001b[0m\u001b[0;34m\u001b[0m\u001b[0m\n",
      "\u001b[0;31mImportError\u001b[0m: attempted relative import with no known parent package"
     ]
    }
   ],
   "source": [
    "import sys \n",
    "import os \n",
    "\n",
    "sys.path.append('../..')\n",
    "\n",
    "DATA_DIR = '../../data'\n",
    "os.environ['DATA_DIR'] = DATA_DIR\n",
    "\n",
    "from utils.data import load_data, get_all_vectorized\n",
    "from utils.analyses.similarity.wordsim import calc_pair_sim\n",
    "import numpy as np\n",
    "import pandas as pd\n",
    "\n",
    "\n",
    "from os.path import join as pjoin"
   ]
  },
  {
   "cell_type": "markdown",
   "id": "ba06287a",
   "metadata": {},
   "source": [
    "# Predicting human similarity judgements"
   ]
  },
  {
   "cell_type": "markdown",
   "id": "dede006c",
   "metadata": {},
   "source": [
    "## Wrd Similarity and relatedness"
   ]
  },
  {
   "cell_type": "code",
   "execution_count": null,
   "id": "ec7888d7",
   "metadata": {},
   "outputs": [],
   "source": [
    "gpt_vec, cslb_vec, mc_vec, behv_sim = get_all_vectorized(vec='count')"
   ]
  },
  {
   "cell_type": "code",
   "execution_count": 3,
   "id": "62e5bb68",
   "metadata": {},
   "outputs": [
    {
     "ename": "NameError",
     "evalue": "name 'pd' is not defined",
     "output_type": "error",
     "traceback": [
      "\u001b[0;31m---------------------------------------------------------------------------\u001b[0m",
      "\u001b[0;31mNameError\u001b[0m                                 Traceback (most recent call last)",
      "\u001b[0;32m/tmp/ipykernel_43438/4292861754.py\u001b[0m in \u001b[0;36m<module>\u001b[0;34m\u001b[0m\n\u001b[0;32m----> 1\u001b[0;31m \u001b[0mwordsim\u001b[0m \u001b[0;34m=\u001b[0m \u001b[0mpd\u001b[0m\u001b[0;34m.\u001b[0m\u001b[0mread_csv\u001b[0m\u001b[0;34m(\u001b[0m\u001b[0;34m'/wordsim353/combined.csv'\u001b[0m\u001b[0;34m)\u001b[0m\u001b[0;34m\u001b[0m\u001b[0;34m\u001b[0m\u001b[0m\n\u001b[0m\u001b[1;32m      2\u001b[0m \u001b[0mwordsim\u001b[0m \u001b[0;34m=\u001b[0m \u001b[0mwordsim\u001b[0m\u001b[0;34m.\u001b[0m\u001b[0mrename\u001b[0m\u001b[0;34m(\u001b[0m\u001b[0mcolumns\u001b[0m\u001b[0;34m=\u001b[0m\u001b[0;34m{\u001b[0m\u001b[0;34m'Word 1'\u001b[0m\u001b[0;34m:\u001b[0m \u001b[0;34m'word1'\u001b[0m\u001b[0;34m,\u001b[0m \u001b[0;34m'Word 2'\u001b[0m\u001b[0;34m:\u001b[0m \u001b[0;34m'word2'\u001b[0m\u001b[0;34m,\u001b[0m \u001b[0;34m'Human (mean)'\u001b[0m\u001b[0;34m:\u001b[0m \u001b[0;34m'rating'\u001b[0m\u001b[0;34m}\u001b[0m\u001b[0;34m)\u001b[0m\u001b[0;34m\u001b[0m\u001b[0;34m\u001b[0m\u001b[0m\n\u001b[1;32m      3\u001b[0m \u001b[0msimlex\u001b[0m \u001b[0;34m=\u001b[0m \u001b[0mpd\u001b[0m\u001b[0;34m.\u001b[0m\u001b[0mread_csv\u001b[0m\u001b[0;34m(\u001b[0m\u001b[0;34m'input_data/simlex999/SimLex-999.txt'\u001b[0m\u001b[0;34m,\u001b[0m \u001b[0msep\u001b[0m\u001b[0;34m=\u001b[0m\u001b[0;34m'\\t'\u001b[0m\u001b[0;34m,\u001b[0m \u001b[0musecols\u001b[0m\u001b[0;34m=\u001b[0m\u001b[0;34m[\u001b[0m\u001b[0;34m'word1'\u001b[0m\u001b[0;34m,\u001b[0m \u001b[0;34m'word2'\u001b[0m\u001b[0;34m,\u001b[0m \u001b[0;34m'SimLex999'\u001b[0m\u001b[0;34m]\u001b[0m\u001b[0;34m)\u001b[0m\u001b[0;34m\u001b[0m\u001b[0;34m\u001b[0m\u001b[0m\n\u001b[1;32m      4\u001b[0m \u001b[0msimlex\u001b[0m \u001b[0;34m=\u001b[0m \u001b[0msimlex\u001b[0m\u001b[0;34m.\u001b[0m\u001b[0mrename\u001b[0m\u001b[0;34m(\u001b[0m\u001b[0mcolumns\u001b[0m\u001b[0;34m=\u001b[0m\u001b[0;34m{\u001b[0m\u001b[0;34m'SimLex999'\u001b[0m\u001b[0;34m:\u001b[0m \u001b[0;34m'rating'\u001b[0m\u001b[0;34m}\u001b[0m\u001b[0;34m)\u001b[0m\u001b[0;34m\u001b[0m\u001b[0;34m\u001b[0m\u001b[0m\n\u001b[1;32m      5\u001b[0m \u001b[0mmen\u001b[0m \u001b[0;34m=\u001b[0m \u001b[0mpd\u001b[0m\u001b[0;34m.\u001b[0m\u001b[0mread_csv\u001b[0m\u001b[0;34m(\u001b[0m\u001b[0;34m'input_data/men/MEN_dataset_natural_form_full'\u001b[0m\u001b[0;34m,\u001b[0m \u001b[0msep\u001b[0m\u001b[0;34m=\u001b[0m\u001b[0;34m' '\u001b[0m\u001b[0;34m,\u001b[0m \u001b[0mnames\u001b[0m\u001b[0;34m=\u001b[0m\u001b[0;34m[\u001b[0m\u001b[0;34m'word1'\u001b[0m\u001b[0;34m,\u001b[0m \u001b[0;34m'word2'\u001b[0m\u001b[0;34m,\u001b[0m \u001b[0;34m'rating'\u001b[0m\u001b[0;34m]\u001b[0m\u001b[0;34m,\u001b[0m \u001b[0mheader\u001b[0m\u001b[0;34m=\u001b[0m\u001b[0;32mNone\u001b[0m\u001b[0;34m)\u001b[0m\u001b[0;34m\u001b[0m\u001b[0;34m\u001b[0m\u001b[0m\n",
      "\u001b[0;31mNameError\u001b[0m: name 'pd' is not defined"
     ]
    }
   ],
   "source": [
    "wordsim = pd.read_csv(pjoin(DATA_DIR, '/wordsim353/combined.csv'))\n",
    "wordsim = wordsim.rename(columns={'Word 1': 'word1', 'Word 2': 'word2', 'Human (mean)': 'rating'})\n",
    "\n",
    "simlex = pd.read_csv(pjoin(DATA_DIR, 'simlex999/SimLex-999.txt'), sep='\\t', usecols=['word1', 'word2', 'SimLex999'])\n",
    "simlex = simlex.rename(columns={'SimLex999': 'rating'})\n",
    "\n",
    "men = pd.read_csv(pjoin(DATA_DIR, 'men/MEN_dataset_natural_form_full'), sep=' ', names=['word1', 'word2', 'rating'], header=None)\n",
    "\n",
    "yp = pd.read_csv(pjoin(DATA_DIR, 'yp/yp-130.csv'))\n",
    "yp = yp.rename(columns={'similarity': 'rating'})\n",
    "\n",
    "mturk771 = pd.read_csv(pjoin(DATA_DIR, 'mturk_771/mturk-771.csv'))\n",
    "mturk771 = mturk771.rename(columns={'similarity': 'rating'})\n",
    "\n",
    "mturk287 = pd.read_csv(pjoin(DATA_DIR, 'mturk_287/mturk-287.csv'))\n",
    "mturk287 = mturk287.rename(columns={'similarity': 'rating'})\n",
    "\n",
    "rw = pd.read_csv(pjoin(DATA_DIR, 'rw/rw.csv'))\n",
    "rw = rw.rename(columns={'similarity': 'rating'})\n",
    "                 "
   ]
  },
  {
   "cell_type": "code",
   "execution_count": null,
   "id": "c0a3b6f5",
   "metadata": {
    "scrolled": false
   },
   "outputs": [],
   "source": [
    "for dataset_name, wordsim_df in (('wordsim-353', wordsim), \n",
    "                                 ('simlex-999', simlex), \n",
    "                                 ('men', men),\n",
    "                                 ('mturk-771', mturk771),\n",
    "                                 ('mturk-287', mturk287),\n",
    "                                 ('rw', rw),\n",
    "                                 ('yp', yp)):\n",
    "    ratings = []\n",
    "    gpt_similarities = []\n",
    "    cslb_similarities = []\n",
    "    mc_similarities = []\n",
    "    \n",
    "    for row in wordsim_df.iterrows():\n",
    "        word1 = row[1]['word1'].lower()\n",
    "        word2 = row[1]['word2'].lower()\n",
    "        rating = row[1]['rating']\n",
    "        \n",
    "        gpt_words = gpt_vec.index\n",
    "        \n",
    "        if word1 not in gpt_words:\n",
    "            word1 = f'{word1}1'\n",
    "            \n",
    "        if word2 not in gpt_words:\n",
    "            word2 = f'{word2}1'\n",
    "        \n",
    "       \n",
    "        word1_in_gpt_cslb = word1 in gpt_words and word1 in cslb_vec.index and word1 in mc_vec.index\n",
    "        word2_in_gpt_cslb = word2 in gpt_words and word2 in cslb_vec.index and word2 in mc_vec.index\n",
    "        \n",
    "        \n",
    "        if word1_in_gpt_cslb and word2_in_gpt_cslb:\n",
    "            ratings.append(rating)\n",
    "\n",
    "            gpt_sim = calc_pair_sim(gpt_vec, word1, word2)\n",
    "            gpt_similarities.append(gpt_sim)\n",
    "\n",
    "            cslb_sim = calc_pair_sim(cslb_vec, word1, word2)\n",
    "            cslb_similarities.append(cslb_sim)\n",
    "            \n",
    "            mc_sim = calc_pair_sim(mc_vec, word1, word2)\n",
    "            mc_similarities.append(mc_sim)\n",
    "    \n",
    "    corr_cslb = np.corrcoef(cslb_similarities, ratings)[1][0]\n",
    "    corr_gpt = np.corrcoef(gpt_similarities, ratings)[1][0]\n",
    "    corr_mc = np.corrcoef(mc_similarities, ratings)[1][0]\n",
    "    print(f'Dataset {dataset_name} has {len(ratings)} intersection word pairs and correlation of GPT-Dataset is {corr_gpt:.3} and CSLB-Dataset is {corr_cslb:.3}  Mc-Dataset is {corr_mc:.3}')\n",
    "        \n"
   ]
  }
 ],
 "metadata": {
  "kernelspec": {
   "display_name": "Python 3 (ipykernel)",
   "language": "python",
   "name": "python3"
  },
  "language_info": {
   "codemirror_mode": {
    "name": "ipython",
    "version": 3
   },
   "file_extension": ".py",
   "mimetype": "text/x-python",
   "name": "python",
   "nbconvert_exporter": "python",
   "pygments_lexer": "ipython3",
   "version": "3.9.7"
  }
 },
 "nbformat": 4,
 "nbformat_minor": 5
}
