{
 "cells": [
  {
   "cell_type": "code",
   "execution_count": 2,
   "id": "1228e4cb",
   "metadata": {},
   "outputs": [],
   "source": [
    "import sys \n",
    "import os \n",
    "\n",
    "sys.path.append('../..')\n",
    "\n",
    "DATA_DIR = '../../data'\n",
    "os.environ['DATA_DIR'] = DATA_DIR\n",
    "\n",
    "from utils.things import calc_correlation, get_all_vectorized\n",
    "from utils.correlation import calc_semi_partial_correlation\n",
    "from utils.data import load_gpt, load_cslb, load_mcrae, load_behav\n",
    "import matplotlib.pyplot as plt "
   ]
  },
  {
   "cell_type": "markdown",
   "id": "80dfea5d",
   "metadata": {},
   "source": [
    "# Load data "
   ]
  },
  {
   "cell_type": "code",
   "execution_count": 3,
   "id": "6af1cbdc",
   "metadata": {},
   "outputs": [
    {
     "name": "stdout",
     "output_type": "stream",
     "text": [
      "../../data\n"
     ]
    },
    {
     "name": "stderr",
     "output_type": "stream",
     "text": [
      "/home/hannes/anaconda3/envs/features/lib/python3.9/site-packages/openpyxl/worksheet/_reader.py:312: UserWarning: Unknown extension is not supported and will be removed\n",
      "  warn(msg)\n"
     ]
    },
    {
     "name": "stdout",
     "output_type": "stream",
     "text": [
      "317 concepts are present in all feature norms\n"
     ]
    },
    {
     "name": "stderr",
     "output_type": "stream",
     "text": [
      "/home/hannes/anaconda3/envs/features/lib/python3.9/site-packages/sklearn/utils/deprecation.py:87: FutureWarning: Function get_feature_names is deprecated; get_feature_names is deprecated in 1.0 and will be removed in 1.2. Please use get_feature_names_out instead.\n",
      "  warnings.warn(msg, category=FutureWarning)\n"
     ]
    }
   ],
   "source": [
    "group_to_one_concept = True\n",
    "duplicates = True \n",
    "min_amount_runs_feature_occured = 4\n",
    "min_amount_runs_feature_occured_within_concept = 1\n",
    "\n",
    "feature_norms = {\n",
    "    'McRae': load_mcrae(group_to_one_concept, duplicates),\n",
    "    'CSLB': load_cslb(group_to_one_concept),\n",
    "    'GPT-McRae': load_gpt(min_amount_runs_feature_occured, group_to_one_concept, min_amount_runs_feature_occured_within_concept, duplicates)\n",
    "}\n",
    "\n",
    "behav_sim = load_behav()\n",
    "feature_norms_vec, behav_sim_matched = get_all_vectorized(feature_norms, behav_sim, 'count')\n"
   ]
  },
  {
   "cell_type": "markdown",
   "id": "ba06287a",
   "metadata": {},
   "source": [
    "# Predicting human similarity judgements"
   ]
  },
  {
   "cell_type": "markdown",
   "id": "7a030c73",
   "metadata": {},
   "source": [
    "## THINGS"
   ]
  },
  {
   "cell_type": "code",
   "execution_count": 4,
   "id": "010c7001",
   "metadata": {},
   "outputs": [
    {
     "name": "stdout",
     "output_type": "stream",
     "text": [
      "McRae\n",
      "(317, 2524)\n",
      "50086\n",
      "CSLB\n",
      "(317, 5929)\n",
      "50086\n",
      "GPT-McRae\n",
      "(317, 11720)\n",
      "50086\n"
     ]
    },
    {
     "data": {
      "text/html": [
       "<style type=\"text/css\">\n",
       "#T_1c108_row0_col0, #T_1c108_row1_col1, #T_1c108_row2_col2, #T_1c108_row3_col3 {\n",
       "  background-color: #b40426;\n",
       "  color: #f1f1f1;\n",
       "}\n",
       "#T_1c108_row0_col1, #T_1c108_row0_col3, #T_1c108_row1_col0, #T_1c108_row1_col2 {\n",
       "  background-color: #3b4cc0;\n",
       "  color: #f1f1f1;\n",
       "}\n",
       "#T_1c108_row0_col2 {\n",
       "  background-color: #5572df;\n",
       "  color: #f1f1f1;\n",
       "}\n",
       "#T_1c108_row1_col3 {\n",
       "  background-color: #cdd9ec;\n",
       "  color: #000000;\n",
       "}\n",
       "#T_1c108_row2_col0 {\n",
       "  background-color: #bfd3f6;\n",
       "  color: #000000;\n",
       "}\n",
       "#T_1c108_row2_col1 {\n",
       "  background-color: #abc8fd;\n",
       "  color: #000000;\n",
       "}\n",
       "#T_1c108_row2_col3 {\n",
       "  background-color: #d2dbe8;\n",
       "  color: #000000;\n",
       "}\n",
       "#T_1c108_row3_col0 {\n",
       "  background-color: #6788ee;\n",
       "  color: #f1f1f1;\n",
       "}\n",
       "#T_1c108_row3_col1 {\n",
       "  background-color: #e2dad5;\n",
       "  color: #000000;\n",
       "}\n",
       "#T_1c108_row3_col2 {\n",
       "  background-color: #9fbfff;\n",
       "  color: #000000;\n",
       "}\n",
       "</style>\n",
       "<table id=\"T_1c108_\">\n",
       "  <thead>\n",
       "    <tr>\n",
       "      <th class=\"blank level0\" >&nbsp;</th>\n",
       "      <th class=\"col_heading level0 col0\" >THINGS</th>\n",
       "      <th class=\"col_heading level0 col1\" >McRae</th>\n",
       "      <th class=\"col_heading level0 col2\" >CSLB</th>\n",
       "      <th class=\"col_heading level0 col3\" >GPT-McRae</th>\n",
       "    </tr>\n",
       "  </thead>\n",
       "  <tbody>\n",
       "    <tr>\n",
       "      <th id=\"T_1c108_level0_row0\" class=\"row_heading level0 row0\" >THINGS</th>\n",
       "      <td id=\"T_1c108_row0_col0\" class=\"data row0 col0\" >1.000000</td>\n",
       "      <td id=\"T_1c108_row0_col1\" class=\"data row0 col1\" >0.559284</td>\n",
       "      <td id=\"T_1c108_row0_col2\" class=\"data row0 col2\" >0.733578</td>\n",
       "      <td id=\"T_1c108_row0_col3\" class=\"data row0 col3\" >0.621724</td>\n",
       "    </tr>\n",
       "    <tr>\n",
       "      <th id=\"T_1c108_level0_row1\" class=\"row_heading level0 row1\" >McRae</th>\n",
       "      <td id=\"T_1c108_row1_col0\" class=\"data row1 col0\" >0.559284</td>\n",
       "      <td id=\"T_1c108_row1_col1\" class=\"data row1 col1\" >1.000000</td>\n",
       "      <td id=\"T_1c108_row1_col2\" class=\"data row1 col2\" >0.707363</td>\n",
       "      <td id=\"T_1c108_row1_col3\" class=\"data row1 col3\" >0.789170</td>\n",
       "    </tr>\n",
       "    <tr>\n",
       "      <th id=\"T_1c108_level0_row2\" class=\"row_heading level0 row2\" >CSLB</th>\n",
       "      <td id=\"T_1c108_row2_col0\" class=\"data row2 col0\" >0.733578</td>\n",
       "      <td id=\"T_1c108_row2_col1\" class=\"data row2 col1\" >0.707363</td>\n",
       "      <td id=\"T_1c108_row2_col2\" class=\"data row2 col2\" >1.000000</td>\n",
       "      <td id=\"T_1c108_row2_col3\" class=\"data row2 col3\" >0.796077</td>\n",
       "    </tr>\n",
       "    <tr>\n",
       "      <th id=\"T_1c108_level0_row3\" class=\"row_heading level0 row3\" >GPT-McRae</th>\n",
       "      <td id=\"T_1c108_row3_col0\" class=\"data row3 col0\" >0.621724</td>\n",
       "      <td id=\"T_1c108_row3_col1\" class=\"data row3 col1\" >0.789170</td>\n",
       "      <td id=\"T_1c108_row3_col2\" class=\"data row3 col2\" >0.796077</td>\n",
       "      <td id=\"T_1c108_row3_col3\" class=\"data row3 col3\" >1.000000</td>\n",
       "    </tr>\n",
       "  </tbody>\n",
       "</table>\n"
      ],
      "text/plain": [
       "<pandas.io.formats.style.Styler at 0x7f286b673310>"
      ]
     },
     "execution_count": 4,
     "metadata": {},
     "output_type": "execute_result"
    }
   ],
   "source": [
    "corr = calc_correlation(feature_norms_vec, behav_sim_matched)\n",
    "corr.style.background_gradient(cmap='coolwarm')"
   ]
  },
  {
   "cell_type": "markdown",
   "id": "ea2479ef",
   "metadata": {},
   "source": [
    "## Model performance with more runs"
   ]
  },
  {
   "cell_type": "code",
   "execution_count": null,
   "id": "0a9a98a6",
   "metadata": {},
   "outputs": [],
   "source": [
    "min_amount_runs_feature_occured = 1\n",
    "group_to_one_concept = False\n",
    "min_amount_runs_feature_occured_within_concept = 1\n",
    "duplicates = True \n",
    "\n",
    "gpt_df = load_gpt(min_amount_runs_feature_occured, group_to_one_concept, min_amount_runs_feature_occured_within_concept, duplicates)\n",
    "mc_df = load_mcrae(True)\n",
    "clsb_df = load_cslb(True)\n",
    "        \n",
    "r = []\n",
    "for i in range(1, 31):\n",
    "    runs = list(range(1, i+1))\n",
    "    print(runs)\n",
    "    gpt_df_temp = gpt_df[gpt_df['run_nr'].isin(runs)]\n",
    "    gpt_df_temp = gpt_df_temp.groupby('concept_id', as_index=False).agg({'feature': lambda x: ';'.join(x)})\n",
    "    \n",
    "    gpt_vec, cslb_vec, mc_vec, behv_sim_matched = get_all_vectorized(gpt_df_temp, clsb_df, mc_df, behv_sim, 'binary')\n",
    "    r_gpt_behav, r_cslb_behav, r_mc_behav, r_gpt_mc, r_cslb_gpt = calc_correlation(gpt_vec, mc_vec, behv_sim_matched, cslb_vec)\n",
    "    r.append(r_gpt_behav)"
   ]
  },
  {
   "cell_type": "code",
   "execution_count": null,
   "id": "67fd9907",
   "metadata": {},
   "outputs": [],
   "source": [
    "plt.plot(range(1, len(r) + 1), r)"
   ]
  },
  {
   "cell_type": "markdown",
   "id": "8b3c7e62",
   "metadata": {},
   "source": [
    "# Variance Partioning Analyses"
   ]
  },
  {
   "cell_type": "code",
   "execution_count": 9,
   "id": "052a5b6b",
   "metadata": {},
   "outputs": [],
   "source": [
    "def vpa(corr_with_things_1, corr_with_things_2, corr_1_with_2):\n",
    "    explained_variance_gpt = calc_semi_partial_correlation(corr_with_things_1, corr_with_things_2, corr_1_with_2)\n",
    "    print('unique variance GPT (partial out McRae): {:.4f}'.format(explained_variance_gpt ** 2))\n",
    "\n",
    "    explained_variance_mc = calc_semi_partial_correlation(corr_with_things_2, corr_with_things_1, corr_1_with_2)\n",
    "    print('unique variance McRae (partial out GPT): {:.4f}'.format(explained_variance_mc ** 2))\n",
    "\n",
    "    shared_variance = (corr_with_things_2 ** 2) - (explained_variance_mc ** 2)\n",
    "    print('shared variance between GPT and McRae: {:.4f}'.format(shared_variance))"
   ]
  },
  {
   "cell_type": "code",
   "execution_count": 10,
   "id": "a5fa60d9",
   "metadata": {},
   "outputs": [
    {
     "name": "stdout",
     "output_type": "stream",
     "text": [
      "unique variance GPT (partial out McRae): 0.0862\n",
      "unique variance McRae (partial out GPT): 0.0125\n",
      "shared variance between GPT and McRae: 0.3003\n"
     ]
    }
   ],
   "source": [
    "vpa(corr['THINGS']['GPT-McRae'], corr['THINGS']['McRae'], corr['GPT-McRae']['McRae'])"
   ]
  },
  {
   "cell_type": "code",
   "execution_count": 11,
   "id": "5a6b9e3a",
   "metadata": {},
   "outputs": [
    {
     "name": "stdout",
     "output_type": "stream",
     "text": [
      "unique variance GPT (partial out McRae): 0.0039\n",
      "unique variance McRae (partial out GPT): 0.1555\n",
      "shared variance between GPT and McRae: 0.3827\n"
     ]
    }
   ],
   "source": [
    "vpa(corr['THINGS']['GPT-McRae'], corr['THINGS']['CSLB'], corr['GPT-McRae']['CSLB'])"
   ]
  }
 ],
 "metadata": {
  "kernelspec": {
   "display_name": "Python 3 (ipykernel)",
   "language": "python",
   "name": "python3"
  },
  "language_info": {
   "codemirror_mode": {
    "name": "ipython",
    "version": 3
   },
   "file_extension": ".py",
   "mimetype": "text/x-python",
   "name": "python",
   "nbconvert_exporter": "python",
   "pygments_lexer": "ipython3",
   "version": "3.9.7"
  }
 },
 "nbformat": 4,
 "nbformat_minor": 5
}
