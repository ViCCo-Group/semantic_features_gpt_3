{
 "cells": [
  {
   "cell_type": "code",
   "execution_count": 1,
   "id": "1228e4cb",
   "metadata": {},
   "outputs": [],
   "source": [
    "import sys \n",
    "import os \n",
    "\n",
    "sys.path.append('../..')\n",
    "\n",
    "DATA_DIR = '../../data'\n",
    "os.environ['DATA_DIR'] = DATA_DIR\n",
    "\n",
    "from utils.things import calc_correlation, get_all_vectorized, sort_vec, match_behv_sim\n",
    "from utils.correlation import calc_semi_partial_correlation\n",
    "from utils.data import load_gpt, load_cslb, load_mcrae, load_behav\n",
    "import matplotlib.pyplot as plt \n",
    "\n",
    "from utils.correlation import get_similiarity_vector\n",
    "from utils.vectorization import vectorize_concepts\n",
    "from utils.data import load_cslb_count_vec, load_sorting\n",
    "from utils.feature_norms import generate_concepts_to_keep "
   ]
  },
  {
   "cell_type": "markdown",
   "id": "80dfea5d",
   "metadata": {},
   "source": [
    "# Load vectorized feature norms"
   ]
  },
  {
   "cell_type": "markdown",
   "id": "4c7e3d1f",
   "metadata": {},
   "source": [
    "## 317 Objects - 30 Inits\n",
    "but use raw feature norm with all 1854 objects "
   ]
  },
  {
   "cell_type": "code",
   "execution_count": 2,
   "id": "6af1cbdc",
   "metadata": {},
   "outputs": [
    {
     "name": "stdout",
     "output_type": "stream",
     "text": [
      "../../data\n"
     ]
    },
    {
     "name": "stderr",
     "output_type": "stream",
     "text": [
      "/home/hannes/anaconda3/envs/features/lib/python3.9/site-packages/openpyxl/worksheet/_reader.py:312: UserWarning: Unknown extension is not supported and will be removed\n",
      "  warn(msg)\n"
     ]
    },
    {
     "name": "stdout",
     "output_type": "stream",
     "text": [
      "317 concepts are present in all feature norms\n"
     ]
    },
    {
     "name": "stderr",
     "output_type": "stream",
     "text": [
      "/home/hannes/anaconda3/envs/features/lib/python3.9/site-packages/sklearn/utils/deprecation.py:87: FutureWarning: Function get_feature_names is deprecated; get_feature_names is deprecated in 1.0 and will be removed in 1.2. Please use get_feature_names_out instead.\n",
      "  warnings.warn(msg, category=FutureWarning)\n"
     ]
    },
    {
     "name": "stdout",
     "output_type": "stream",
     "text": [
      "McRae\n",
      "(317, 2524)\n",
      "50086\n",
      "CSLB\n",
      "(317, 2725)\n",
      "50086\n",
      "GPT3-McRae-30\n",
      "(317, 11720)\n",
      "50086\n",
      "ChatGPT3-McRae-30\n",
      "(317, 18771)\n",
      "50086\n"
     ]
    },
    {
     "name": "stderr",
     "output_type": "stream",
     "text": [
      "/tmp/ipykernel_4360/194708153.py:18: FutureWarning: this method is deprecated in favour of `Styler.format(precision=..)`\n",
      "  corr.style.background_gradient(cmap='coolwarm', axis=None).set_precision(3)\n"
     ]
    },
    {
     "data": {
      "text/html": [
       "<style type=\"text/css\">\n",
       "#T_f90cf_row0_col0, #T_f90cf_row1_col1, #T_f90cf_row2_col2, #T_f90cf_row3_col3, #T_f90cf_row4_col4 {\n",
       "  background-color: #b40426;\n",
       "  color: #f1f1f1;\n",
       "}\n",
       "#T_f90cf_row0_col1, #T_f90cf_row1_col0 {\n",
       "  background-color: #5470de;\n",
       "  color: #f1f1f1;\n",
       "}\n",
       "#T_f90cf_row0_col2, #T_f90cf_row2_col0 {\n",
       "  background-color: #86a9fc;\n",
       "  color: #f1f1f1;\n",
       "}\n",
       "#T_f90cf_row0_col3, #T_f90cf_row3_col0 {\n",
       "  background-color: #80a3fa;\n",
       "  color: #f1f1f1;\n",
       "}\n",
       "#T_f90cf_row0_col4, #T_f90cf_row4_col0 {\n",
       "  background-color: #3b4cc0;\n",
       "  color: #f1f1f1;\n",
       "}\n",
       "#T_f90cf_row1_col2, #T_f90cf_row1_col3, #T_f90cf_row2_col1, #T_f90cf_row3_col1 {\n",
       "  background-color: #ebd3c6;\n",
       "  color: #000000;\n",
       "}\n",
       "#T_f90cf_row1_col4, #T_f90cf_row4_col1 {\n",
       "  background-color: #cedaeb;\n",
       "  color: #000000;\n",
       "}\n",
       "#T_f90cf_row2_col3, #T_f90cf_row3_col2 {\n",
       "  background-color: #efcfbf;\n",
       "  color: #000000;\n",
       "}\n",
       "#T_f90cf_row2_col4, #T_f90cf_row4_col2 {\n",
       "  background-color: #dfdbd9;\n",
       "  color: #000000;\n",
       "}\n",
       "#T_f90cf_row3_col4, #T_f90cf_row4_col3 {\n",
       "  background-color: #f2c9b4;\n",
       "  color: #000000;\n",
       "}\n",
       "</style>\n",
       "<table id=\"T_f90cf_\">\n",
       "  <thead>\n",
       "    <tr>\n",
       "      <th class=\"blank level0\" >&nbsp;</th>\n",
       "      <th class=\"col_heading level0 col0\" >THINGS</th>\n",
       "      <th class=\"col_heading level0 col1\" >McRae</th>\n",
       "      <th class=\"col_heading level0 col2\" >CSLB</th>\n",
       "      <th class=\"col_heading level0 col3\" >GPT3-McRae-30</th>\n",
       "      <th class=\"col_heading level0 col4\" >ChatGPT3-McRae-30</th>\n",
       "    </tr>\n",
       "  </thead>\n",
       "  <tbody>\n",
       "    <tr>\n",
       "      <th id=\"T_f90cf_level0_row0\" class=\"row_heading level0 row0\" >THINGS</th>\n",
       "      <td id=\"T_f90cf_row0_col0\" class=\"data row0 col0\" >1.000</td>\n",
       "      <td id=\"T_f90cf_row0_col1\" class=\"data row0 col1\" >0.559</td>\n",
       "      <td id=\"T_f90cf_row0_col2\" class=\"data row0 col2\" >0.631</td>\n",
       "      <td id=\"T_f90cf_row0_col3\" class=\"data row0 col3\" >0.622</td>\n",
       "      <td id=\"T_f90cf_row0_col4\" class=\"data row0 col4\" >0.519</td>\n",
       "    </tr>\n",
       "    <tr>\n",
       "      <th id=\"T_f90cf_level0_row1\" class=\"row_heading level0 row1\" >McRae</th>\n",
       "      <td id=\"T_f90cf_row1_col0\" class=\"data row1 col0\" >0.559</td>\n",
       "      <td id=\"T_f90cf_row1_col1\" class=\"data row1 col1\" >1.000</td>\n",
       "      <td id=\"T_f90cf_row1_col2\" class=\"data row1 col2\" >0.789</td>\n",
       "      <td id=\"T_f90cf_row1_col3\" class=\"data row1 col3\" >0.789</td>\n",
       "      <td id=\"T_f90cf_row1_col4\" class=\"data row1 col4\" >0.735</td>\n",
       "    </tr>\n",
       "    <tr>\n",
       "      <th id=\"T_f90cf_level0_row2\" class=\"row_heading level0 row2\" >CSLB</th>\n",
       "      <td id=\"T_f90cf_row2_col0\" class=\"data row2 col0\" >0.631</td>\n",
       "      <td id=\"T_f90cf_row2_col1\" class=\"data row2 col1\" >0.789</td>\n",
       "      <td id=\"T_f90cf_row2_col2\" class=\"data row2 col2\" >1.000</td>\n",
       "      <td id=\"T_f90cf_row2_col3\" class=\"data row2 col3\" >0.799</td>\n",
       "      <td id=\"T_f90cf_row2_col4\" class=\"data row2 col4\" >0.764</td>\n",
       "    </tr>\n",
       "    <tr>\n",
       "      <th id=\"T_f90cf_level0_row3\" class=\"row_heading level0 row3\" >GPT3-McRae-30</th>\n",
       "      <td id=\"T_f90cf_row3_col0\" class=\"data row3 col0\" >0.622</td>\n",
       "      <td id=\"T_f90cf_row3_col1\" class=\"data row3 col1\" >0.789</td>\n",
       "      <td id=\"T_f90cf_row3_col2\" class=\"data row3 col2\" >0.799</td>\n",
       "      <td id=\"T_f90cf_row3_col3\" class=\"data row3 col3\" >1.000</td>\n",
       "      <td id=\"T_f90cf_row3_col4\" class=\"data row3 col4\" >0.811</td>\n",
       "    </tr>\n",
       "    <tr>\n",
       "      <th id=\"T_f90cf_level0_row4\" class=\"row_heading level0 row4\" >ChatGPT3-McRae-30</th>\n",
       "      <td id=\"T_f90cf_row4_col0\" class=\"data row4 col0\" >0.519</td>\n",
       "      <td id=\"T_f90cf_row4_col1\" class=\"data row4 col1\" >0.735</td>\n",
       "      <td id=\"T_f90cf_row4_col2\" class=\"data row4 col2\" >0.764</td>\n",
       "      <td id=\"T_f90cf_row4_col3\" class=\"data row4 col3\" >0.811</td>\n",
       "      <td id=\"T_f90cf_row4_col4\" class=\"data row4 col4\" >1.000</td>\n",
       "    </tr>\n",
       "  </tbody>\n",
       "</table>\n"
      ],
      "text/plain": [
       "<pandas.io.formats.style.Styler at 0x7f7091bc8c40>"
      ]
     },
     "execution_count": 2,
     "metadata": {},
     "output_type": "execute_result"
    }
   ],
   "source": [
    "group_to_one_concept = True\n",
    "duplicates = True \n",
    "min_amount_runs_feature_occured = 4\n",
    "min_amount_runs_feature_occured_within_concept = 1\n",
    "\n",
    "# 317 objects are used to calculate similarities\n",
    "feature_norms = {\n",
    "    'McRae': load_mcrae(group_to_one_concept, duplicates),\n",
    "    'CSLB': load_cslb(group_to_one_concept),\n",
    "    'GPT3-McRae-30': load_gpt(min_amount_runs_feature_occured, group_to_one_concept, min_amount_runs_feature_occured_within_concept, duplicates, 'mcrae_priming', 'gpt3-davinci', 30, 1854),\n",
    "    'ChatGPT3-McRae-30': load_gpt(min_amount_runs_feature_occured, group_to_one_concept, min_amount_runs_feature_occured_within_concept, duplicates, 'mcrae_priming', 'chatgpt-gpt3.5-turbo', 30, 1854)\n",
    "}\n",
    "\n",
    "intersection_concepts = generate_concepts_to_keep(feature_norms, 'intersection')\n",
    "feature_norms_vec, behav_sim_matched = get_all_vectorized(feature_norms, intersection_concepts, 'count')\n",
    "\n",
    "corr = calc_correlation(feature_norms_vec, behav_sim_matched)\n",
    "corr.style.background_gradient(cmap='coolwarm', axis=None).set_precision(3)"
   ]
  },
  {
   "cell_type": "markdown",
   "id": "745304b8",
   "metadata": {},
   "source": [
    "# 317 Objects - 10 Inits\n",
    "but from raw feature using 317 objects and 10 inits"
   ]
  },
  {
   "cell_type": "code",
   "execution_count": 3,
   "id": "0a6a05ad",
   "metadata": {},
   "outputs": [
    {
     "name": "stdout",
     "output_type": "stream",
     "text": [
      "../../data\n"
     ]
    },
    {
     "name": "stderr",
     "output_type": "stream",
     "text": [
      "/home/hannes/anaconda3/envs/features/lib/python3.9/site-packages/openpyxl/worksheet/_reader.py:312: UserWarning: Unknown extension is not supported and will be removed\n",
      "  warn(msg)\n"
     ]
    },
    {
     "name": "stdout",
     "output_type": "stream",
     "text": [
      "317 concepts are present in all feature norms\n"
     ]
    },
    {
     "name": "stderr",
     "output_type": "stream",
     "text": [
      "/home/hannes/anaconda3/envs/features/lib/python3.9/site-packages/sklearn/utils/deprecation.py:87: FutureWarning: Function get_feature_names is deprecated; get_feature_names is deprecated in 1.0 and will be removed in 1.2. Please use get_feature_names_out instead.\n",
      "  warnings.warn(msg, category=FutureWarning)\n"
     ]
    },
    {
     "name": "stdout",
     "output_type": "stream",
     "text": [
      "McRae\n",
      "(317, 2524)\n",
      "50086\n",
      "CSLB\n",
      "(317, 2725)\n",
      "50086\n",
      "GPT3-McRae-10\n",
      "(317, 6267)\n",
      "50086\n",
      "GPT3-CSLB-10\n",
      "(317, 6444)\n",
      "50086\n",
      "GPT4-McRae-10\n",
      "(317, 6994)\n",
      "50086\n"
     ]
    },
    {
     "name": "stderr",
     "output_type": "stream",
     "text": [
      "/tmp/ipykernel_4360/3659209233.py:23: FutureWarning: this method is deprecated in favour of `Styler.format(precision=..)`\n",
      "  corr.style.background_gradient(cmap='coolwarm', axis=None).set_precision(3)\n"
     ]
    },
    {
     "data": {
      "text/html": [
       "<style type=\"text/css\">\n",
       "#T_1e4ba_row0_col0, #T_1e4ba_row1_col1, #T_1e4ba_row2_col2, #T_1e4ba_row3_col3, #T_1e4ba_row4_col4, #T_1e4ba_row5_col5 {\n",
       "  background-color: #b40426;\n",
       "  color: #f1f1f1;\n",
       "}\n",
       "#T_1e4ba_row0_col1, #T_1e4ba_row1_col0 {\n",
       "  background-color: #4961d2;\n",
       "  color: #f1f1f1;\n",
       "}\n",
       "#T_1e4ba_row0_col2, #T_1e4ba_row2_col0 {\n",
       "  background-color: #7b9ff9;\n",
       "  color: #f1f1f1;\n",
       "}\n",
       "#T_1e4ba_row0_col3, #T_1e4ba_row3_col0 {\n",
       "  background-color: #6282ea;\n",
       "  color: #f1f1f1;\n",
       "}\n",
       "#T_1e4ba_row0_col4, #T_1e4ba_row4_col0 {\n",
       "  background-color: #4055c8;\n",
       "  color: #f1f1f1;\n",
       "}\n",
       "#T_1e4ba_row0_col5, #T_1e4ba_row5_col0 {\n",
       "  background-color: #3b4cc0;\n",
       "  color: #f1f1f1;\n",
       "}\n",
       "#T_1e4ba_row1_col2, #T_1e4ba_row2_col1 {\n",
       "  background-color: #e7d7ce;\n",
       "  color: #000000;\n",
       "}\n",
       "#T_1e4ba_row1_col3, #T_1e4ba_row3_col1 {\n",
       "  background-color: #dcdddd;\n",
       "  color: #000000;\n",
       "}\n",
       "#T_1e4ba_row1_col4, #T_1e4ba_row4_col1 {\n",
       "  background-color: #c7d7f0;\n",
       "  color: #000000;\n",
       "}\n",
       "#T_1e4ba_row1_col5, #T_1e4ba_row5_col1 {\n",
       "  background-color: #d1dae9;\n",
       "  color: #000000;\n",
       "}\n",
       "#T_1e4ba_row2_col3, #T_1e4ba_row3_col2 {\n",
       "  background-color: #ebd3c6;\n",
       "  color: #000000;\n",
       "}\n",
       "#T_1e4ba_row2_col4, #T_1e4ba_row4_col2 {\n",
       "  background-color: #ead5c9;\n",
       "  color: #000000;\n",
       "}\n",
       "#T_1e4ba_row2_col5, #T_1e4ba_row5_col2 {\n",
       "  background-color: #e1dad6;\n",
       "  color: #000000;\n",
       "}\n",
       "#T_1e4ba_row3_col4, #T_1e4ba_row4_col3 {\n",
       "  background-color: #e9785d;\n",
       "  color: #f1f1f1;\n",
       "}\n",
       "#T_1e4ba_row3_col5, #T_1e4ba_row5_col3 {\n",
       "  background-color: #ecd3c5;\n",
       "  color: #000000;\n",
       "}\n",
       "#T_1e4ba_row4_col5, #T_1e4ba_row5_col4 {\n",
       "  background-color: #e4d9d2;\n",
       "  color: #000000;\n",
       "}\n",
       "</style>\n",
       "<table id=\"T_1e4ba_\">\n",
       "  <thead>\n",
       "    <tr>\n",
       "      <th class=\"blank level0\" >&nbsp;</th>\n",
       "      <th class=\"col_heading level0 col0\" >THINGS</th>\n",
       "      <th class=\"col_heading level0 col1\" >McRae</th>\n",
       "      <th class=\"col_heading level0 col2\" >CSLB</th>\n",
       "      <th class=\"col_heading level0 col3\" >GPT3-McRae-10</th>\n",
       "      <th class=\"col_heading level0 col4\" >GPT3-CSLB-10</th>\n",
       "      <th class=\"col_heading level0 col5\" >GPT4-McRae-10</th>\n",
       "    </tr>\n",
       "  </thead>\n",
       "  <tbody>\n",
       "    <tr>\n",
       "      <th id=\"T_1e4ba_level0_row0\" class=\"row_heading level0 row0\" >THINGS</th>\n",
       "      <td id=\"T_1e4ba_row0_col0\" class=\"data row0 col0\" >1.000</td>\n",
       "      <td id=\"T_1e4ba_row0_col1\" class=\"data row0 col1\" >0.559</td>\n",
       "      <td id=\"T_1e4ba_row0_col2\" class=\"data row0 col2\" >0.631</td>\n",
       "      <td id=\"T_1e4ba_row0_col3\" class=\"data row0 col3\" >0.597</td>\n",
       "      <td id=\"T_1e4ba_row0_col4\" class=\"data row0 col4\" >0.547</td>\n",
       "      <td id=\"T_1e4ba_row0_col5\" class=\"data row0 col5\" >0.538</td>\n",
       "    </tr>\n",
       "    <tr>\n",
       "      <th id=\"T_1e4ba_level0_row1\" class=\"row_heading level0 row1\" >McRae</th>\n",
       "      <td id=\"T_1e4ba_row1_col0\" class=\"data row1 col0\" >0.559</td>\n",
       "      <td id=\"T_1e4ba_row1_col1\" class=\"data row1 col1\" >1.000</td>\n",
       "      <td id=\"T_1e4ba_row1_col2\" class=\"data row1 col2\" >0.789</td>\n",
       "      <td id=\"T_1e4ba_row1_col3\" class=\"data row1 col3\" >0.767</td>\n",
       "      <td id=\"T_1e4ba_row1_col4\" class=\"data row1 col4\" >0.734</td>\n",
       "      <td id=\"T_1e4ba_row1_col5\" class=\"data row1 col5\" >0.748</td>\n",
       "    </tr>\n",
       "    <tr>\n",
       "      <th id=\"T_1e4ba_level0_row2\" class=\"row_heading level0 row2\" >CSLB</th>\n",
       "      <td id=\"T_1e4ba_row2_col0\" class=\"data row2 col0\" >0.631</td>\n",
       "      <td id=\"T_1e4ba_row2_col1\" class=\"data row2 col1\" >0.789</td>\n",
       "      <td id=\"T_1e4ba_row2_col2\" class=\"data row2 col2\" >1.000</td>\n",
       "      <td id=\"T_1e4ba_row2_col3\" class=\"data row2 col3\" >0.797</td>\n",
       "      <td id=\"T_1e4ba_row2_col4\" class=\"data row2 col4\" >0.793</td>\n",
       "      <td id=\"T_1e4ba_row2_col5\" class=\"data row2 col5\" >0.776</td>\n",
       "    </tr>\n",
       "    <tr>\n",
       "      <th id=\"T_1e4ba_level0_row3\" class=\"row_heading level0 row3\" >GPT3-McRae-10</th>\n",
       "      <td id=\"T_1e4ba_row3_col0\" class=\"data row3 col0\" >0.597</td>\n",
       "      <td id=\"T_1e4ba_row3_col1\" class=\"data row3 col1\" >0.767</td>\n",
       "      <td id=\"T_1e4ba_row3_col2\" class=\"data row3 col2\" >0.797</td>\n",
       "      <td id=\"T_1e4ba_row3_col3\" class=\"data row3 col3\" >1.000</td>\n",
       "      <td id=\"T_1e4ba_row3_col4\" class=\"data row3 col4\" >0.919</td>\n",
       "      <td id=\"T_1e4ba_row3_col5\" class=\"data row3 col5\" >0.799</td>\n",
       "    </tr>\n",
       "    <tr>\n",
       "      <th id=\"T_1e4ba_level0_row4\" class=\"row_heading level0 row4\" >GPT3-CSLB-10</th>\n",
       "      <td id=\"T_1e4ba_row4_col0\" class=\"data row4 col0\" >0.547</td>\n",
       "      <td id=\"T_1e4ba_row4_col1\" class=\"data row4 col1\" >0.734</td>\n",
       "      <td id=\"T_1e4ba_row4_col2\" class=\"data row4 col2\" >0.793</td>\n",
       "      <td id=\"T_1e4ba_row4_col3\" class=\"data row4 col3\" >0.919</td>\n",
       "      <td id=\"T_1e4ba_row4_col4\" class=\"data row4 col4\" >1.000</td>\n",
       "      <td id=\"T_1e4ba_row4_col5\" class=\"data row4 col5\" >0.783</td>\n",
       "    </tr>\n",
       "    <tr>\n",
       "      <th id=\"T_1e4ba_level0_row5\" class=\"row_heading level0 row5\" >GPT4-McRae-10</th>\n",
       "      <td id=\"T_1e4ba_row5_col0\" class=\"data row5 col0\" >0.538</td>\n",
       "      <td id=\"T_1e4ba_row5_col1\" class=\"data row5 col1\" >0.748</td>\n",
       "      <td id=\"T_1e4ba_row5_col2\" class=\"data row5 col2\" >0.776</td>\n",
       "      <td id=\"T_1e4ba_row5_col3\" class=\"data row5 col3\" >0.799</td>\n",
       "      <td id=\"T_1e4ba_row5_col4\" class=\"data row5 col4\" >0.783</td>\n",
       "      <td id=\"T_1e4ba_row5_col5\" class=\"data row5 col5\" >1.000</td>\n",
       "    </tr>\n",
       "  </tbody>\n",
       "</table>\n"
      ],
      "text/plain": [
       "<pandas.io.formats.style.Styler at 0x7f709149d520>"
      ]
     },
     "execution_count": 3,
     "metadata": {},
     "output_type": "execute_result"
    }
   ],
   "source": [
    "group_to_one_concept = True\n",
    "duplicates = True \n",
    "min_amount_runs_feature_occured = 4\n",
    "min_amount_runs_feature_occured_within_concept = 1\n",
    "\n",
    "# 317 objects are used to calculate similarities\n",
    "feature_norms = {\n",
    "    'McRae': load_mcrae(group_to_one_concept, duplicates),\n",
    "    'CSLB': load_cslb(group_to_one_concept),\n",
    "    \n",
    "    # TODO 10 runs \n",
    "    'GPT3-McRae-10': load_gpt(1, group_to_one_concept, min_amount_runs_feature_occured_within_concept, duplicates, 'mcrae_priming', 'gpt3-davinci', 10, 317),\n",
    "    'GPT3-CSLB-10': load_gpt(1, group_to_one_concept, min_amount_runs_feature_occured_within_concept, duplicates, 'cslb_priming', 'gpt3-davinci', 10, 317),\n",
    "\n",
    "    # TODO GPT4\n",
    "    'GPT4-McRae-10': load_gpt(1, group_to_one_concept, min_amount_runs_feature_occured_within_concept, duplicates, 'mcrae_priming', 'gpt4', 10, 317)\n",
    "}\n",
    "\n",
    "intersection_concepts = generate_concepts_to_keep(feature_norms, 'intersection')\n",
    "feature_norms_vec, behav_sim_matched = get_all_vectorized(feature_norms, intersection_concepts, 'count')\n",
    "\n",
    "corr = calc_correlation(feature_norms_vec, behav_sim_matched)\n",
    "corr.style.background_gradient(cmap='coolwarm', axis=None).set_precision(3)"
   ]
  },
  {
   "cell_type": "markdown",
   "id": "ba06287a",
   "metadata": {},
   "source": [
    "# All 1854 Objects with 10 Inits"
   ]
  },
  {
   "cell_type": "code",
   "execution_count": 4,
   "id": "7e85a45f",
   "metadata": {},
   "outputs": [
    {
     "name": "stdout",
     "output_type": "stream",
     "text": [
      "../../data\n"
     ]
    },
    {
     "name": "stderr",
     "output_type": "stream",
     "text": [
      "/home/hannes/anaconda3/envs/features/lib/python3.9/site-packages/openpyxl/worksheet/_reader.py:312: UserWarning: Unknown extension is not supported and will be removed\n",
      "  warn(msg)\n"
     ]
    },
    {
     "ename": "FileNotFoundError",
     "evalue": "[Errno 2] No such file or directory: '../../data/gpt_3_feature_norm/mcrae_priming/gpt3-davinci/10/1854/decoded_answers.csv'",
     "output_type": "error",
     "traceback": [
      "\u001b[0;31m---------------------------------------------------------------------------\u001b[0m",
      "\u001b[0;31mFileNotFoundError\u001b[0m                         Traceback (most recent call last)",
      "\u001b[0;32m/tmp/ipykernel_4360/3166376563.py\u001b[0m in \u001b[0;36m<module>\u001b[0;34m\u001b[0m\n\u001b[1;32m      6\u001b[0m     \u001b[0;34m'McRae'\u001b[0m\u001b[0;34m:\u001b[0m \u001b[0mload_mcrae\u001b[0m\u001b[0;34m(\u001b[0m\u001b[0mgroup_to_one_concept\u001b[0m\u001b[0;34m,\u001b[0m \u001b[0mduplicates\u001b[0m\u001b[0;34m)\u001b[0m\u001b[0;34m,\u001b[0m\u001b[0;34m\u001b[0m\u001b[0;34m\u001b[0m\u001b[0m\n\u001b[1;32m      7\u001b[0m     \u001b[0;34m'CSLB'\u001b[0m\u001b[0;34m:\u001b[0m \u001b[0mload_cslb\u001b[0m\u001b[0;34m(\u001b[0m\u001b[0mgroup_to_one_concept\u001b[0m\u001b[0;34m)\u001b[0m\u001b[0;34m,\u001b[0m\u001b[0;34m\u001b[0m\u001b[0;34m\u001b[0m\u001b[0m\n\u001b[0;32m----> 8\u001b[0;31m     \u001b[0;34m'GPT3-McRae-10'\u001b[0m\u001b[0;34m:\u001b[0m \u001b[0mload_gpt\u001b[0m\u001b[0;34m(\u001b[0m\u001b[0;36m4\u001b[0m\u001b[0;34m,\u001b[0m \u001b[0mgroup_to_one_concept\u001b[0m\u001b[0;34m,\u001b[0m \u001b[0mmin_amount_runs_feature_occured_within_concept\u001b[0m\u001b[0;34m,\u001b[0m \u001b[0mduplicates\u001b[0m\u001b[0;34m,\u001b[0m \u001b[0;34m'mcrae_priming'\u001b[0m\u001b[0;34m,\u001b[0m \u001b[0;34m'gpt3-davinci'\u001b[0m\u001b[0;34m,\u001b[0m \u001b[0;36m10\u001b[0m\u001b[0;34m,\u001b[0m \u001b[0;36m1854\u001b[0m\u001b[0;34m)\u001b[0m\u001b[0;34m,\u001b[0m\u001b[0;34m\u001b[0m\u001b[0;34m\u001b[0m\u001b[0m\n\u001b[0m\u001b[1;32m      9\u001b[0m     \u001b[0;34m'GPT3-CSLB-10'\u001b[0m\u001b[0;34m:\u001b[0m \u001b[0mload_gpt\u001b[0m\u001b[0;34m(\u001b[0m\u001b[0;36m4\u001b[0m\u001b[0;34m,\u001b[0m \u001b[0mgroup_to_one_concept\u001b[0m\u001b[0;34m,\u001b[0m \u001b[0mmin_amount_runs_feature_occured_within_concept\u001b[0m\u001b[0;34m,\u001b[0m \u001b[0mduplicates\u001b[0m\u001b[0;34m,\u001b[0m \u001b[0;34m'cslb_priming'\u001b[0m\u001b[0;34m,\u001b[0m \u001b[0;34m'gpt3-davinci'\u001b[0m\u001b[0;34m,\u001b[0m \u001b[0;36m10\u001b[0m\u001b[0;34m,\u001b[0m \u001b[0;36m1854\u001b[0m\u001b[0;34m)\u001b[0m\u001b[0;34m,\u001b[0m\u001b[0;34m\u001b[0m\u001b[0;34m\u001b[0m\u001b[0m\n\u001b[1;32m     10\u001b[0m }\n",
      "\u001b[0;32m~/data/laptop_sync/arbeit/max_planck/projects/gpt3_semantic_features/semantic_features_gpt_3/analyses/similarity_prediction/../../utils/data.py\u001b[0m in \u001b[0;36mload_gpt\u001b[0;34m(min_amount_runs_feature_occured, group_to_one_concept, min_amount_runs_feature_occured_within_concept, duplicates, priming, model, number_runs, number_objects)\u001b[0m\n\u001b[1;32m     24\u001b[0m \u001b[0;32mdef\u001b[0m \u001b[0mload_gpt\u001b[0m\u001b[0;34m(\u001b[0m\u001b[0mmin_amount_runs_feature_occured\u001b[0m\u001b[0;34m,\u001b[0m \u001b[0mgroup_to_one_concept\u001b[0m\u001b[0;34m,\u001b[0m \u001b[0mmin_amount_runs_feature_occured_within_concept\u001b[0m\u001b[0;34m,\u001b[0m \u001b[0mduplicates\u001b[0m\u001b[0;34m,\u001b[0m \u001b[0mpriming\u001b[0m\u001b[0;34m,\u001b[0m \u001b[0mmodel\u001b[0m\u001b[0;34m,\u001b[0m \u001b[0mnumber_runs\u001b[0m\u001b[0;34m,\u001b[0m \u001b[0mnumber_objects\u001b[0m\u001b[0;34m)\u001b[0m\u001b[0;34m:\u001b[0m\u001b[0;34m\u001b[0m\u001b[0;34m\u001b[0m\u001b[0m\n\u001b[1;32m     25\u001b[0m     \u001b[0;31m# Read GPT3 features\u001b[0m\u001b[0;34m\u001b[0m\u001b[0;34m\u001b[0m\u001b[0m\n\u001b[0;32m---> 26\u001b[0;31m     \u001b[0mgpt_df\u001b[0m \u001b[0;34m=\u001b[0m \u001b[0mpd\u001b[0m\u001b[0;34m.\u001b[0m\u001b[0mread_csv\u001b[0m\u001b[0;34m(\u001b[0m\u001b[0;34mf'{DATA_DIR}/gpt_3_feature_norm/{priming}/{model}/{number_runs}/{number_objects}/decoded_answers.csv'\u001b[0m\u001b[0;34m)\u001b[0m\u001b[0;34m\u001b[0m\u001b[0;34m\u001b[0m\u001b[0m\n\u001b[0m\u001b[1;32m     27\u001b[0m     \u001b[0mgpt_df\u001b[0m \u001b[0;34m=\u001b[0m \u001b[0mgpt_df\u001b[0m\u001b[0;34m.\u001b[0m\u001b[0mrename\u001b[0m\u001b[0;34m(\u001b[0m\u001b[0mcolumns\u001b[0m\u001b[0;34m=\u001b[0m\u001b[0;34m{\u001b[0m\u001b[0;34m'decoded_feature'\u001b[0m\u001b[0;34m:\u001b[0m \u001b[0;34m'feature'\u001b[0m\u001b[0;34m}\u001b[0m\u001b[0;34m)\u001b[0m\u001b[0;34m\u001b[0m\u001b[0;34m\u001b[0m\u001b[0m\n\u001b[1;32m     28\u001b[0m \u001b[0;34m\u001b[0m\u001b[0m\n",
      "\u001b[0;32m~/anaconda3/envs/features/lib/python3.9/site-packages/pandas/util/_decorators.py\u001b[0m in \u001b[0;36mwrapper\u001b[0;34m(*args, **kwargs)\u001b[0m\n\u001b[1;32m    309\u001b[0m                     \u001b[0mstacklevel\u001b[0m\u001b[0;34m=\u001b[0m\u001b[0mstacklevel\u001b[0m\u001b[0;34m,\u001b[0m\u001b[0;34m\u001b[0m\u001b[0;34m\u001b[0m\u001b[0m\n\u001b[1;32m    310\u001b[0m                 )\n\u001b[0;32m--> 311\u001b[0;31m             \u001b[0;32mreturn\u001b[0m \u001b[0mfunc\u001b[0m\u001b[0;34m(\u001b[0m\u001b[0;34m*\u001b[0m\u001b[0margs\u001b[0m\u001b[0;34m,\u001b[0m \u001b[0;34m**\u001b[0m\u001b[0mkwargs\u001b[0m\u001b[0;34m)\u001b[0m\u001b[0;34m\u001b[0m\u001b[0;34m\u001b[0m\u001b[0m\n\u001b[0m\u001b[1;32m    312\u001b[0m \u001b[0;34m\u001b[0m\u001b[0m\n\u001b[1;32m    313\u001b[0m         \u001b[0;32mreturn\u001b[0m \u001b[0mwrapper\u001b[0m\u001b[0;34m\u001b[0m\u001b[0;34m\u001b[0m\u001b[0m\n",
      "\u001b[0;32m~/anaconda3/envs/features/lib/python3.9/site-packages/pandas/io/parsers/readers.py\u001b[0m in \u001b[0;36mread_csv\u001b[0;34m(filepath_or_buffer, sep, delimiter, header, names, index_col, usecols, squeeze, prefix, mangle_dupe_cols, dtype, engine, converters, true_values, false_values, skipinitialspace, skiprows, skipfooter, nrows, na_values, keep_default_na, na_filter, verbose, skip_blank_lines, parse_dates, infer_datetime_format, keep_date_col, date_parser, dayfirst, cache_dates, iterator, chunksize, compression, thousands, decimal, lineterminator, quotechar, quoting, doublequote, escapechar, comment, encoding, encoding_errors, dialect, error_bad_lines, warn_bad_lines, on_bad_lines, delim_whitespace, low_memory, memory_map, float_precision, storage_options)\u001b[0m\n\u001b[1;32m    584\u001b[0m     \u001b[0mkwds\u001b[0m\u001b[0;34m.\u001b[0m\u001b[0mupdate\u001b[0m\u001b[0;34m(\u001b[0m\u001b[0mkwds_defaults\u001b[0m\u001b[0;34m)\u001b[0m\u001b[0;34m\u001b[0m\u001b[0;34m\u001b[0m\u001b[0m\n\u001b[1;32m    585\u001b[0m \u001b[0;34m\u001b[0m\u001b[0m\n\u001b[0;32m--> 586\u001b[0;31m     \u001b[0;32mreturn\u001b[0m \u001b[0m_read\u001b[0m\u001b[0;34m(\u001b[0m\u001b[0mfilepath_or_buffer\u001b[0m\u001b[0;34m,\u001b[0m \u001b[0mkwds\u001b[0m\u001b[0;34m)\u001b[0m\u001b[0;34m\u001b[0m\u001b[0;34m\u001b[0m\u001b[0m\n\u001b[0m\u001b[1;32m    587\u001b[0m \u001b[0;34m\u001b[0m\u001b[0m\n\u001b[1;32m    588\u001b[0m \u001b[0;34m\u001b[0m\u001b[0m\n",
      "\u001b[0;32m~/anaconda3/envs/features/lib/python3.9/site-packages/pandas/io/parsers/readers.py\u001b[0m in \u001b[0;36m_read\u001b[0;34m(filepath_or_buffer, kwds)\u001b[0m\n\u001b[1;32m    480\u001b[0m \u001b[0;34m\u001b[0m\u001b[0m\n\u001b[1;32m    481\u001b[0m     \u001b[0;31m# Create the parser.\u001b[0m\u001b[0;34m\u001b[0m\u001b[0;34m\u001b[0m\u001b[0m\n\u001b[0;32m--> 482\u001b[0;31m     \u001b[0mparser\u001b[0m \u001b[0;34m=\u001b[0m \u001b[0mTextFileReader\u001b[0m\u001b[0;34m(\u001b[0m\u001b[0mfilepath_or_buffer\u001b[0m\u001b[0;34m,\u001b[0m \u001b[0;34m**\u001b[0m\u001b[0mkwds\u001b[0m\u001b[0;34m)\u001b[0m\u001b[0;34m\u001b[0m\u001b[0;34m\u001b[0m\u001b[0m\n\u001b[0m\u001b[1;32m    483\u001b[0m \u001b[0;34m\u001b[0m\u001b[0m\n\u001b[1;32m    484\u001b[0m     \u001b[0;32mif\u001b[0m \u001b[0mchunksize\u001b[0m \u001b[0;32mor\u001b[0m \u001b[0miterator\u001b[0m\u001b[0;34m:\u001b[0m\u001b[0;34m\u001b[0m\u001b[0;34m\u001b[0m\u001b[0m\n",
      "\u001b[0;32m~/anaconda3/envs/features/lib/python3.9/site-packages/pandas/io/parsers/readers.py\u001b[0m in \u001b[0;36m__init__\u001b[0;34m(self, f, engine, **kwds)\u001b[0m\n\u001b[1;32m    809\u001b[0m             \u001b[0mself\u001b[0m\u001b[0;34m.\u001b[0m\u001b[0moptions\u001b[0m\u001b[0;34m[\u001b[0m\u001b[0;34m\"has_index_names\"\u001b[0m\u001b[0;34m]\u001b[0m \u001b[0;34m=\u001b[0m \u001b[0mkwds\u001b[0m\u001b[0;34m[\u001b[0m\u001b[0;34m\"has_index_names\"\u001b[0m\u001b[0;34m]\u001b[0m\u001b[0;34m\u001b[0m\u001b[0;34m\u001b[0m\u001b[0m\n\u001b[1;32m    810\u001b[0m \u001b[0;34m\u001b[0m\u001b[0m\n\u001b[0;32m--> 811\u001b[0;31m         \u001b[0mself\u001b[0m\u001b[0;34m.\u001b[0m\u001b[0m_engine\u001b[0m \u001b[0;34m=\u001b[0m \u001b[0mself\u001b[0m\u001b[0;34m.\u001b[0m\u001b[0m_make_engine\u001b[0m\u001b[0;34m(\u001b[0m\u001b[0mself\u001b[0m\u001b[0;34m.\u001b[0m\u001b[0mengine\u001b[0m\u001b[0;34m)\u001b[0m\u001b[0;34m\u001b[0m\u001b[0;34m\u001b[0m\u001b[0m\n\u001b[0m\u001b[1;32m    812\u001b[0m \u001b[0;34m\u001b[0m\u001b[0m\n\u001b[1;32m    813\u001b[0m     \u001b[0;32mdef\u001b[0m \u001b[0mclose\u001b[0m\u001b[0;34m(\u001b[0m\u001b[0mself\u001b[0m\u001b[0;34m)\u001b[0m\u001b[0;34m:\u001b[0m\u001b[0;34m\u001b[0m\u001b[0;34m\u001b[0m\u001b[0m\n",
      "\u001b[0;32m~/anaconda3/envs/features/lib/python3.9/site-packages/pandas/io/parsers/readers.py\u001b[0m in \u001b[0;36m_make_engine\u001b[0;34m(self, engine)\u001b[0m\n\u001b[1;32m   1038\u001b[0m             )\n\u001b[1;32m   1039\u001b[0m         \u001b[0;31m# error: Too many arguments for \"ParserBase\"\u001b[0m\u001b[0;34m\u001b[0m\u001b[0;34m\u001b[0m\u001b[0m\n\u001b[0;32m-> 1040\u001b[0;31m         \u001b[0;32mreturn\u001b[0m \u001b[0mmapping\u001b[0m\u001b[0;34m[\u001b[0m\u001b[0mengine\u001b[0m\u001b[0;34m]\u001b[0m\u001b[0;34m(\u001b[0m\u001b[0mself\u001b[0m\u001b[0;34m.\u001b[0m\u001b[0mf\u001b[0m\u001b[0;34m,\u001b[0m \u001b[0;34m**\u001b[0m\u001b[0mself\u001b[0m\u001b[0;34m.\u001b[0m\u001b[0moptions\u001b[0m\u001b[0;34m)\u001b[0m  \u001b[0;31m# type: ignore[call-arg]\u001b[0m\u001b[0;34m\u001b[0m\u001b[0;34m\u001b[0m\u001b[0m\n\u001b[0m\u001b[1;32m   1041\u001b[0m \u001b[0;34m\u001b[0m\u001b[0m\n\u001b[1;32m   1042\u001b[0m     \u001b[0;32mdef\u001b[0m \u001b[0m_failover_to_python\u001b[0m\u001b[0;34m(\u001b[0m\u001b[0mself\u001b[0m\u001b[0;34m)\u001b[0m\u001b[0;34m:\u001b[0m\u001b[0;34m\u001b[0m\u001b[0;34m\u001b[0m\u001b[0m\n",
      "\u001b[0;32m~/anaconda3/envs/features/lib/python3.9/site-packages/pandas/io/parsers/c_parser_wrapper.py\u001b[0m in \u001b[0;36m__init__\u001b[0;34m(self, src, **kwds)\u001b[0m\n\u001b[1;32m     49\u001b[0m \u001b[0;34m\u001b[0m\u001b[0m\n\u001b[1;32m     50\u001b[0m         \u001b[0;31m# open handles\u001b[0m\u001b[0;34m\u001b[0m\u001b[0;34m\u001b[0m\u001b[0m\n\u001b[0;32m---> 51\u001b[0;31m         \u001b[0mself\u001b[0m\u001b[0;34m.\u001b[0m\u001b[0m_open_handles\u001b[0m\u001b[0;34m(\u001b[0m\u001b[0msrc\u001b[0m\u001b[0;34m,\u001b[0m \u001b[0mkwds\u001b[0m\u001b[0;34m)\u001b[0m\u001b[0;34m\u001b[0m\u001b[0;34m\u001b[0m\u001b[0m\n\u001b[0m\u001b[1;32m     52\u001b[0m         \u001b[0;32massert\u001b[0m \u001b[0mself\u001b[0m\u001b[0;34m.\u001b[0m\u001b[0mhandles\u001b[0m \u001b[0;32mis\u001b[0m \u001b[0;32mnot\u001b[0m \u001b[0;32mNone\u001b[0m\u001b[0;34m\u001b[0m\u001b[0;34m\u001b[0m\u001b[0m\n\u001b[1;32m     53\u001b[0m \u001b[0;34m\u001b[0m\u001b[0m\n",
      "\u001b[0;32m~/anaconda3/envs/features/lib/python3.9/site-packages/pandas/io/parsers/base_parser.py\u001b[0m in \u001b[0;36m_open_handles\u001b[0;34m(self, src, kwds)\u001b[0m\n\u001b[1;32m    220\u001b[0m         \u001b[0mLet\u001b[0m \u001b[0mthe\u001b[0m \u001b[0mreaders\u001b[0m \u001b[0mopen\u001b[0m \u001b[0mIOHandles\u001b[0m \u001b[0mafter\u001b[0m \u001b[0mthey\u001b[0m \u001b[0mare\u001b[0m \u001b[0mdone\u001b[0m \u001b[0;32mwith\u001b[0m \u001b[0mtheir\u001b[0m \u001b[0mpotential\u001b[0m \u001b[0mraises\u001b[0m\u001b[0;34m.\u001b[0m\u001b[0;34m\u001b[0m\u001b[0;34m\u001b[0m\u001b[0m\n\u001b[1;32m    221\u001b[0m         \"\"\"\n\u001b[0;32m--> 222\u001b[0;31m         self.handles = get_handle(\n\u001b[0m\u001b[1;32m    223\u001b[0m             \u001b[0msrc\u001b[0m\u001b[0;34m,\u001b[0m\u001b[0;34m\u001b[0m\u001b[0;34m\u001b[0m\u001b[0m\n\u001b[1;32m    224\u001b[0m             \u001b[0;34m\"r\"\u001b[0m\u001b[0;34m,\u001b[0m\u001b[0;34m\u001b[0m\u001b[0;34m\u001b[0m\u001b[0m\n",
      "\u001b[0;32m~/anaconda3/envs/features/lib/python3.9/site-packages/pandas/io/common.py\u001b[0m in \u001b[0;36mget_handle\u001b[0;34m(path_or_buf, mode, encoding, compression, memory_map, is_text, errors, storage_options)\u001b[0m\n\u001b[1;32m    700\u001b[0m         \u001b[0;32mif\u001b[0m \u001b[0mioargs\u001b[0m\u001b[0;34m.\u001b[0m\u001b[0mencoding\u001b[0m \u001b[0;32mand\u001b[0m \u001b[0;34m\"b\"\u001b[0m \u001b[0;32mnot\u001b[0m \u001b[0;32min\u001b[0m \u001b[0mioargs\u001b[0m\u001b[0;34m.\u001b[0m\u001b[0mmode\u001b[0m\u001b[0;34m:\u001b[0m\u001b[0;34m\u001b[0m\u001b[0;34m\u001b[0m\u001b[0m\n\u001b[1;32m    701\u001b[0m             \u001b[0;31m# Encoding\u001b[0m\u001b[0;34m\u001b[0m\u001b[0;34m\u001b[0m\u001b[0m\n\u001b[0;32m--> 702\u001b[0;31m             handle = open(\n\u001b[0m\u001b[1;32m    703\u001b[0m                 \u001b[0mhandle\u001b[0m\u001b[0;34m,\u001b[0m\u001b[0;34m\u001b[0m\u001b[0;34m\u001b[0m\u001b[0m\n\u001b[1;32m    704\u001b[0m                 \u001b[0mioargs\u001b[0m\u001b[0;34m.\u001b[0m\u001b[0mmode\u001b[0m\u001b[0;34m,\u001b[0m\u001b[0;34m\u001b[0m\u001b[0;34m\u001b[0m\u001b[0m\n",
      "\u001b[0;31mFileNotFoundError\u001b[0m: [Errno 2] No such file or directory: '../../data/gpt_3_feature_norm/mcrae_priming/gpt3-davinci/10/1854/decoded_answers.csv'"
     ]
    }
   ],
   "source": [
    "group_to_one_concept = True\n",
    "duplicates = True \n",
    "min_amount_runs_feature_occured_within_concept = 1\n",
    "\n",
    "feature_norms = {\n",
    "    'McRae': load_mcrae(group_to_one_concept, duplicates),\n",
    "    'CSLB': load_cslb(group_to_one_concept),\n",
    "    'GPT3-McRae-10': load_gpt(4, group_to_one_concept, min_amount_runs_feature_occured_within_concept, duplicates, 'mcrae_priming', 'gpt3-davinci', 10, 1854),\n",
    "    'GPT3-CSLB-10': load_gpt(4, group_to_one_concept, min_amount_runs_feature_occured_within_concept, duplicates, 'cslb_priming', 'gpt3-davinci', 10, 1854),\n",
    "}\n",
    "\n",
    "intersection_concepts = list(feature_norms['GPT3-CSLB-10']['concept_id'].unique())\n",
    "feature_norms_vec, behav_sim_matched = get_all_vectorized(feature_norms, intersection_concepts, 'count')\n",
    "\n",
    "corr = calc_correlation(feature_norms_vec, behav_sim_matched)\n",
    "corr.style.background_gradient(cmap='coolwarm', axis=None).set_precision(3)"
   ]
  },
  {
   "cell_type": "markdown",
   "id": "ea2479ef",
   "metadata": {},
   "source": [
    "## Model performance with more runs"
   ]
  },
  {
   "cell_type": "code",
   "execution_count": 6,
   "id": "802b4ee0",
   "metadata": {},
   "outputs": [
    {
     "ename": "KeyError",
     "evalue": "'GPT3-davinci-McRae'",
     "output_type": "error",
     "traceback": [
      "\u001b[0;31m---------------------------------------------------------------------------\u001b[0m",
      "\u001b[0;31mKeyError\u001b[0m                                  Traceback (most recent call last)",
      "\u001b[0;32m/tmp/ipykernel_9189/1819056751.py\u001b[0m in \u001b[0;36m<module>\u001b[0;34m\u001b[0m\n\u001b[1;32m      1\u001b[0m \u001b[0;31m# Use concepts that are not used in the final comparison\u001b[0m\u001b[0;34m\u001b[0m\u001b[0;34m\u001b[0m\u001b[0m\n\u001b[0;32m----> 2\u001b[0;31m \u001b[0mvalidation_concepts\u001b[0m \u001b[0;34m=\u001b[0m \u001b[0mgenerate_concepts_to_keep\u001b[0m\u001b[0;34m(\u001b[0m\u001b[0mfeature_norms\u001b[0m\u001b[0;34m,\u001b[0m \u001b[0;34m'excl_cslb_mcrae'\u001b[0m\u001b[0;34m)\u001b[0m\u001b[0;34m\u001b[0m\u001b[0;34m\u001b[0m\u001b[0m\n\u001b[0m\u001b[1;32m      3\u001b[0m \u001b[0mgpt_df\u001b[0m \u001b[0;34m=\u001b[0m \u001b[0mload_gpt\u001b[0m\u001b[0;34m(\u001b[0m\u001b[0mmin_amount_runs_feature_occured\u001b[0m\u001b[0;34m,\u001b[0m \u001b[0mgroup_to_one_concept\u001b[0m\u001b[0;34m,\u001b[0m \u001b[0mmin_amount_runs_feature_occured_within_concept\u001b[0m\u001b[0;34m,\u001b[0m \u001b[0mduplicates\u001b[0m\u001b[0;34m,\u001b[0m \u001b[0;34m'mcrae_priming'\u001b[0m\u001b[0;34m,\u001b[0m \u001b[0;34m'gpt3-davinci'\u001b[0m\u001b[0;34m)\u001b[0m\u001b[0;34m\u001b[0m\u001b[0;34m\u001b[0m\u001b[0m\n\u001b[1;32m      4\u001b[0m \u001b[0mbehv_sim\u001b[0m \u001b[0;34m=\u001b[0m \u001b[0mmatch_behv_sim\u001b[0m\u001b[0;34m(\u001b[0m\u001b[0mbehav_sim\u001b[0m\u001b[0;34m,\u001b[0m \u001b[0mvalidation_concepts\u001b[0m\u001b[0;34m,\u001b[0m \u001b[0mload_sorting\u001b[0m\u001b[0;34m(\u001b[0m\u001b[0;34m)\u001b[0m\u001b[0;34m)\u001b[0m\u001b[0;34m\u001b[0m\u001b[0;34m\u001b[0m\u001b[0m\n",
      "\u001b[0;32m~/data/laptop_sync/arbeit/max_planck/projects/gpt3_semantic_features/semantic_features_gpt_3/analyses/similarity_prediction/../../utils/feature_norms.py\u001b[0m in \u001b[0;36mgenerate_concepts_to_keep\u001b[0;34m(feature_norms, strategy)\u001b[0m\n\u001b[1;32m      5\u001b[0m \u001b[0;34m\u001b[0m\u001b[0m\n\u001b[1;32m      6\u001b[0m     \u001b[0;32mif\u001b[0m \u001b[0mstrategy\u001b[0m \u001b[0;34m==\u001b[0m \u001b[0;34m'excl_cslb_mcrae'\u001b[0m\u001b[0;34m:\u001b[0m\u001b[0;34m\u001b[0m\u001b[0;34m\u001b[0m\u001b[0m\n\u001b[0;32m----> 7\u001b[0;31m         \u001b[0mall_things_concepts\u001b[0m \u001b[0;34m=\u001b[0m \u001b[0mset\u001b[0m\u001b[0;34m(\u001b[0m\u001b[0mfeature_norms\u001b[0m\u001b[0;34m[\u001b[0m\u001b[0;34m'GPT3-davinci-McRae'\u001b[0m\u001b[0;34m]\u001b[0m\u001b[0;34m[\u001b[0m\u001b[0;34m'concept_id'\u001b[0m\u001b[0;34m]\u001b[0m\u001b[0;34m.\u001b[0m\u001b[0munique\u001b[0m\u001b[0;34m(\u001b[0m\u001b[0;34m)\u001b[0m\u001b[0;34m)\u001b[0m\u001b[0;34m\u001b[0m\u001b[0;34m\u001b[0m\u001b[0m\n\u001b[0m\u001b[1;32m      8\u001b[0m         \u001b[0mconcepts_to_keep\u001b[0m \u001b[0;34m=\u001b[0m \u001b[0mall_things_concepts\u001b[0m\u001b[0;34m.\u001b[0m\u001b[0mdifference\u001b[0m\u001b[0;34m(\u001b[0m\u001b[0mconcepts_to_keep\u001b[0m\u001b[0;34m)\u001b[0m\u001b[0;34m\u001b[0m\u001b[0;34m\u001b[0m\u001b[0m\n\u001b[1;32m      9\u001b[0m \u001b[0;34m\u001b[0m\u001b[0m\n",
      "\u001b[0;31mKeyError\u001b[0m: 'GPT3-davinci-McRae'"
     ]
    }
   ],
   "source": [
    "# Use concepts that are not used in the final comparison\n",
    "validation_concepts = generate_concepts_to_keep(feature_norms, 'excl_cslb_mcrae')\n",
    "gpt_df = load_gpt(min_amount_runs_feature_occured, group_to_one_concept, min_amount_runs_feature_occured_within_concept, duplicates, 'mcrae_priming', 'gpt3-davinci')\n",
    "behv_sim = match_behv_sim(behav_sim, validation_concepts, load_sorting())"
   ]
  },
  {
   "cell_type": "markdown",
   "id": "cbd60dd6",
   "metadata": {},
   "source": [
    "### How does the total number of runs influence the similarity with THINGS?\n",
    "How many runs should be performed for optimal results? "
   ]
  },
  {
   "cell_type": "code",
   "execution_count": null,
   "id": "67fd9907",
   "metadata": {},
   "outputs": [
    {
     "name": "stderr",
     "output_type": "stream",
     "text": [
      "/home/hannes/anaconda3/envs/features/lib/python3.9/site-packages/sklearn/utils/deprecation.py:87: FutureWarning: Function get_feature_names is deprecated; get_feature_names is deprecated in 1.0 and will be removed in 1.2. Please use get_feature_names_out instead.\n",
      "  warnings.warn(msg, category=FutureWarning)\n"
     ]
    },
    {
     "name": "stdout",
     "output_type": "stream",
     "text": [
      "GPT3-davinci-McRae\n",
      "(1537, 5945)\n",
      "1180416\n"
     ]
    },
    {
     "name": "stderr",
     "output_type": "stream",
     "text": [
      "/home/hannes/anaconda3/envs/features/lib/python3.9/site-packages/sklearn/utils/deprecation.py:87: FutureWarning: Function get_feature_names is deprecated; get_feature_names is deprecated in 1.0 and will be removed in 1.2. Please use get_feature_names_out instead.\n",
      "  warnings.warn(msg, category=FutureWarning)\n"
     ]
    },
    {
     "name": "stdout",
     "output_type": "stream",
     "text": [
      "GPT3-davinci-McRae\n",
      "(1537, 9667)\n",
      "1180416\n"
     ]
    },
    {
     "name": "stderr",
     "output_type": "stream",
     "text": [
      "/home/hannes/anaconda3/envs/features/lib/python3.9/site-packages/sklearn/utils/deprecation.py:87: FutureWarning: Function get_feature_names is deprecated; get_feature_names is deprecated in 1.0 and will be removed in 1.2. Please use get_feature_names_out instead.\n",
      "  warnings.warn(msg, category=FutureWarning)\n"
     ]
    },
    {
     "name": "stdout",
     "output_type": "stream",
     "text": [
      "GPT3-davinci-McRae\n",
      "(1537, 13199)\n",
      "1180416\n"
     ]
    },
    {
     "name": "stderr",
     "output_type": "stream",
     "text": [
      "/home/hannes/anaconda3/envs/features/lib/python3.9/site-packages/sklearn/utils/deprecation.py:87: FutureWarning: Function get_feature_names is deprecated; get_feature_names is deprecated in 1.0 and will be removed in 1.2. Please use get_feature_names_out instead.\n",
      "  warnings.warn(msg, category=FutureWarning)\n"
     ]
    },
    {
     "name": "stdout",
     "output_type": "stream",
     "text": [
      "GPT3-davinci-McRae\n",
      "(1537, 16281)\n",
      "1180416\n"
     ]
    },
    {
     "name": "stderr",
     "output_type": "stream",
     "text": [
      "/home/hannes/anaconda3/envs/features/lib/python3.9/site-packages/sklearn/utils/deprecation.py:87: FutureWarning: Function get_feature_names is deprecated; get_feature_names is deprecated in 1.0 and will be removed in 1.2. Please use get_feature_names_out instead.\n",
      "  warnings.warn(msg, category=FutureWarning)\n"
     ]
    },
    {
     "name": "stdout",
     "output_type": "stream",
     "text": [
      "GPT3-davinci-McRae\n",
      "(1537, 18724)\n",
      "1180416\n"
     ]
    },
    {
     "name": "stderr",
     "output_type": "stream",
     "text": [
      "/home/hannes/anaconda3/envs/features/lib/python3.9/site-packages/sklearn/utils/deprecation.py:87: FutureWarning: Function get_feature_names is deprecated; get_feature_names is deprecated in 1.0 and will be removed in 1.2. Please use get_feature_names_out instead.\n",
      "  warnings.warn(msg, category=FutureWarning)\n"
     ]
    },
    {
     "name": "stdout",
     "output_type": "stream",
     "text": [
      "GPT3-davinci-McRae\n",
      "(1537, 22269)\n",
      "1180416\n"
     ]
    },
    {
     "name": "stderr",
     "output_type": "stream",
     "text": [
      "/home/hannes/anaconda3/envs/features/lib/python3.9/site-packages/sklearn/utils/deprecation.py:87: FutureWarning: Function get_feature_names is deprecated; get_feature_names is deprecated in 1.0 and will be removed in 1.2. Please use get_feature_names_out instead.\n",
      "  warnings.warn(msg, category=FutureWarning)\n"
     ]
    },
    {
     "name": "stdout",
     "output_type": "stream",
     "text": [
      "GPT3-davinci-McRae\n",
      "(1537, 24383)\n",
      "1180416\n"
     ]
    },
    {
     "name": "stderr",
     "output_type": "stream",
     "text": [
      "/home/hannes/anaconda3/envs/features/lib/python3.9/site-packages/sklearn/utils/deprecation.py:87: FutureWarning: Function get_feature_names is deprecated; get_feature_names is deprecated in 1.0 and will be removed in 1.2. Please use get_feature_names_out instead.\n",
      "  warnings.warn(msg, category=FutureWarning)\n"
     ]
    },
    {
     "name": "stdout",
     "output_type": "stream",
     "text": [
      "GPT3-davinci-McRae\n",
      "(1537, 26078)\n",
      "1180416\n"
     ]
    },
    {
     "name": "stderr",
     "output_type": "stream",
     "text": [
      "/home/hannes/anaconda3/envs/features/lib/python3.9/site-packages/sklearn/utils/deprecation.py:87: FutureWarning: Function get_feature_names is deprecated; get_feature_names is deprecated in 1.0 and will be removed in 1.2. Please use get_feature_names_out instead.\n",
      "  warnings.warn(msg, category=FutureWarning)\n"
     ]
    },
    {
     "name": "stdout",
     "output_type": "stream",
     "text": [
      "GPT3-davinci-McRae\n",
      "(1537, 28437)\n",
      "1180416\n"
     ]
    },
    {
     "name": "stderr",
     "output_type": "stream",
     "text": [
      "/home/hannes/anaconda3/envs/features/lib/python3.9/site-packages/sklearn/utils/deprecation.py:87: FutureWarning: Function get_feature_names is deprecated; get_feature_names is deprecated in 1.0 and will be removed in 1.2. Please use get_feature_names_out instead.\n",
      "  warnings.warn(msg, category=FutureWarning)\n"
     ]
    },
    {
     "name": "stdout",
     "output_type": "stream",
     "text": [
      "GPT3-davinci-McRae\n",
      "(1537, 29873)\n",
      "1180416\n"
     ]
    },
    {
     "name": "stderr",
     "output_type": "stream",
     "text": [
      "/home/hannes/anaconda3/envs/features/lib/python3.9/site-packages/sklearn/utils/deprecation.py:87: FutureWarning: Function get_feature_names is deprecated; get_feature_names is deprecated in 1.0 and will be removed in 1.2. Please use get_feature_names_out instead.\n",
      "  warnings.warn(msg, category=FutureWarning)\n"
     ]
    },
    {
     "name": "stdout",
     "output_type": "stream",
     "text": [
      "GPT3-davinci-McRae\n",
      "(1537, 31559)\n",
      "1180416\n"
     ]
    },
    {
     "name": "stderr",
     "output_type": "stream",
     "text": [
      "/home/hannes/anaconda3/envs/features/lib/python3.9/site-packages/sklearn/utils/deprecation.py:87: FutureWarning: Function get_feature_names is deprecated; get_feature_names is deprecated in 1.0 and will be removed in 1.2. Please use get_feature_names_out instead.\n",
      "  warnings.warn(msg, category=FutureWarning)\n"
     ]
    },
    {
     "name": "stdout",
     "output_type": "stream",
     "text": [
      "GPT3-davinci-McRae\n",
      "(1537, 33065)\n",
      "1180416\n"
     ]
    },
    {
     "name": "stderr",
     "output_type": "stream",
     "text": [
      "/home/hannes/anaconda3/envs/features/lib/python3.9/site-packages/sklearn/utils/deprecation.py:87: FutureWarning: Function get_feature_names is deprecated; get_feature_names is deprecated in 1.0 and will be removed in 1.2. Please use get_feature_names_out instead.\n",
      "  warnings.warn(msg, category=FutureWarning)\n"
     ]
    },
    {
     "name": "stdout",
     "output_type": "stream",
     "text": [
      "GPT3-davinci-McRae\n",
      "(1537, 34099)\n",
      "1180416\n"
     ]
    },
    {
     "name": "stderr",
     "output_type": "stream",
     "text": [
      "/home/hannes/anaconda3/envs/features/lib/python3.9/site-packages/sklearn/utils/deprecation.py:87: FutureWarning: Function get_feature_names is deprecated; get_feature_names is deprecated in 1.0 and will be removed in 1.2. Please use get_feature_names_out instead.\n",
      "  warnings.warn(msg, category=FutureWarning)\n"
     ]
    },
    {
     "name": "stdout",
     "output_type": "stream",
     "text": [
      "GPT3-davinci-McRae\n",
      "(1537, 36610)\n",
      "1180416\n"
     ]
    },
    {
     "name": "stderr",
     "output_type": "stream",
     "text": [
      "/home/hannes/anaconda3/envs/features/lib/python3.9/site-packages/sklearn/utils/deprecation.py:87: FutureWarning: Function get_feature_names is deprecated; get_feature_names is deprecated in 1.0 and will be removed in 1.2. Please use get_feature_names_out instead.\n",
      "  warnings.warn(msg, category=FutureWarning)\n"
     ]
    },
    {
     "name": "stdout",
     "output_type": "stream",
     "text": [
      "GPT3-davinci-McRae\n",
      "(1537, 39181)\n",
      "1180416\n"
     ]
    },
    {
     "name": "stderr",
     "output_type": "stream",
     "text": [
      "/home/hannes/anaconda3/envs/features/lib/python3.9/site-packages/sklearn/utils/deprecation.py:87: FutureWarning: Function get_feature_names is deprecated; get_feature_names is deprecated in 1.0 and will be removed in 1.2. Please use get_feature_names_out instead.\n",
      "  warnings.warn(msg, category=FutureWarning)\n"
     ]
    },
    {
     "name": "stdout",
     "output_type": "stream",
     "text": [
      "GPT3-davinci-McRae\n",
      "(1537, 41098)\n",
      "1180416\n"
     ]
    },
    {
     "name": "stderr",
     "output_type": "stream",
     "text": [
      "/home/hannes/anaconda3/envs/features/lib/python3.9/site-packages/sklearn/utils/deprecation.py:87: FutureWarning: Function get_feature_names is deprecated; get_feature_names is deprecated in 1.0 and will be removed in 1.2. Please use get_feature_names_out instead.\n",
      "  warnings.warn(msg, category=FutureWarning)\n"
     ]
    },
    {
     "name": "stdout",
     "output_type": "stream",
     "text": [
      "GPT3-davinci-McRae\n",
      "(1537, 42561)\n",
      "1180416\n"
     ]
    },
    {
     "name": "stderr",
     "output_type": "stream",
     "text": [
      "/home/hannes/anaconda3/envs/features/lib/python3.9/site-packages/sklearn/utils/deprecation.py:87: FutureWarning: Function get_feature_names is deprecated; get_feature_names is deprecated in 1.0 and will be removed in 1.2. Please use get_feature_names_out instead.\n",
      "  warnings.warn(msg, category=FutureWarning)\n"
     ]
    },
    {
     "name": "stdout",
     "output_type": "stream",
     "text": [
      "GPT3-davinci-McRae\n",
      "(1537, 44018)\n",
      "1180416\n"
     ]
    },
    {
     "name": "stderr",
     "output_type": "stream",
     "text": [
      "/home/hannes/anaconda3/envs/features/lib/python3.9/site-packages/sklearn/utils/deprecation.py:87: FutureWarning: Function get_feature_names is deprecated; get_feature_names is deprecated in 1.0 and will be removed in 1.2. Please use get_feature_names_out instead.\n",
      "  warnings.warn(msg, category=FutureWarning)\n"
     ]
    },
    {
     "name": "stdout",
     "output_type": "stream",
     "text": [
      "GPT3-davinci-McRae\n",
      "(1537, 46401)\n",
      "1180416\n"
     ]
    },
    {
     "name": "stderr",
     "output_type": "stream",
     "text": [
      "/home/hannes/anaconda3/envs/features/lib/python3.9/site-packages/sklearn/utils/deprecation.py:87: FutureWarning: Function get_feature_names is deprecated; get_feature_names is deprecated in 1.0 and will be removed in 1.2. Please use get_feature_names_out instead.\n",
      "  warnings.warn(msg, category=FutureWarning)\n"
     ]
    },
    {
     "name": "stdout",
     "output_type": "stream",
     "text": [
      "GPT3-davinci-McRae\n",
      "(1537, 48282)\n",
      "1180416\n"
     ]
    },
    {
     "name": "stderr",
     "output_type": "stream",
     "text": [
      "/home/hannes/anaconda3/envs/features/lib/python3.9/site-packages/sklearn/utils/deprecation.py:87: FutureWarning: Function get_feature_names is deprecated; get_feature_names is deprecated in 1.0 and will be removed in 1.2. Please use get_feature_names_out instead.\n",
      "  warnings.warn(msg, category=FutureWarning)\n"
     ]
    },
    {
     "name": "stdout",
     "output_type": "stream",
     "text": [
      "GPT3-davinci-McRae\n",
      "(1537, 49637)\n",
      "1180416\n"
     ]
    },
    {
     "name": "stderr",
     "output_type": "stream",
     "text": [
      "/home/hannes/anaconda3/envs/features/lib/python3.9/site-packages/sklearn/utils/deprecation.py:87: FutureWarning: Function get_feature_names is deprecated; get_feature_names is deprecated in 1.0 and will be removed in 1.2. Please use get_feature_names_out instead.\n",
      "  warnings.warn(msg, category=FutureWarning)\n"
     ]
    },
    {
     "name": "stdout",
     "output_type": "stream",
     "text": [
      "GPT3-davinci-McRae\n",
      "(1537, 51748)\n",
      "1180416\n"
     ]
    },
    {
     "name": "stderr",
     "output_type": "stream",
     "text": [
      "/home/hannes/anaconda3/envs/features/lib/python3.9/site-packages/sklearn/utils/deprecation.py:87: FutureWarning: Function get_feature_names is deprecated; get_feature_names is deprecated in 1.0 and will be removed in 1.2. Please use get_feature_names_out instead.\n",
      "  warnings.warn(msg, category=FutureWarning)\n"
     ]
    },
    {
     "name": "stdout",
     "output_type": "stream",
     "text": [
      "GPT3-davinci-McRae\n",
      "(1537, 53093)\n",
      "1180416\n"
     ]
    },
    {
     "name": "stderr",
     "output_type": "stream",
     "text": [
      "/home/hannes/anaconda3/envs/features/lib/python3.9/site-packages/sklearn/utils/deprecation.py:87: FutureWarning: Function get_feature_names is deprecated; get_feature_names is deprecated in 1.0 and will be removed in 1.2. Please use get_feature_names_out instead.\n",
      "  warnings.warn(msg, category=FutureWarning)\n"
     ]
    },
    {
     "name": "stdout",
     "output_type": "stream",
     "text": [
      "GPT3-davinci-McRae\n",
      "(1537, 54650)\n",
      "1180416\n"
     ]
    },
    {
     "name": "stderr",
     "output_type": "stream",
     "text": [
      "/home/hannes/anaconda3/envs/features/lib/python3.9/site-packages/sklearn/utils/deprecation.py:87: FutureWarning: Function get_feature_names is deprecated; get_feature_names is deprecated in 1.0 and will be removed in 1.2. Please use get_feature_names_out instead.\n",
      "  warnings.warn(msg, category=FutureWarning)\n"
     ]
    },
    {
     "name": "stdout",
     "output_type": "stream",
     "text": [
      "GPT3-davinci-McRae\n",
      "(1537, 55817)\n",
      "1180416\n"
     ]
    },
    {
     "name": "stderr",
     "output_type": "stream",
     "text": [
      "/home/hannes/anaconda3/envs/features/lib/python3.9/site-packages/sklearn/utils/deprecation.py:87: FutureWarning: Function get_feature_names is deprecated; get_feature_names is deprecated in 1.0 and will be removed in 1.2. Please use get_feature_names_out instead.\n",
      "  warnings.warn(msg, category=FutureWarning)\n"
     ]
    },
    {
     "name": "stdout",
     "output_type": "stream",
     "text": [
      "GPT3-davinci-McRae\n",
      "(1537, 56830)\n",
      "1180416\n"
     ]
    },
    {
     "name": "stderr",
     "output_type": "stream",
     "text": [
      "/home/hannes/anaconda3/envs/features/lib/python3.9/site-packages/sklearn/utils/deprecation.py:87: FutureWarning: Function get_feature_names is deprecated; get_feature_names is deprecated in 1.0 and will be removed in 1.2. Please use get_feature_names_out instead.\n",
      "  warnings.warn(msg, category=FutureWarning)\n"
     ]
    },
    {
     "name": "stdout",
     "output_type": "stream",
     "text": [
      "GPT3-davinci-McRae\n",
      "(1537, 59031)\n",
      "1180416\n"
     ]
    },
    {
     "name": "stderr",
     "output_type": "stream",
     "text": [
      "/home/hannes/anaconda3/envs/features/lib/python3.9/site-packages/sklearn/utils/deprecation.py:87: FutureWarning: Function get_feature_names is deprecated; get_feature_names is deprecated in 1.0 and will be removed in 1.2. Please use get_feature_names_out instead.\n",
      "  warnings.warn(msg, category=FutureWarning)\n"
     ]
    },
    {
     "name": "stdout",
     "output_type": "stream",
     "text": [
      "GPT3-davinci-McRae\n",
      "(1537, 60674)\n",
      "1180416\n"
     ]
    },
    {
     "name": "stderr",
     "output_type": "stream",
     "text": [
      "/home/hannes/anaconda3/envs/features/lib/python3.9/site-packages/sklearn/utils/deprecation.py:87: FutureWarning: Function get_feature_names is deprecated; get_feature_names is deprecated in 1.0 and will be removed in 1.2. Please use get_feature_names_out instead.\n",
      "  warnings.warn(msg, category=FutureWarning)\n"
     ]
    },
    {
     "name": "stdout",
     "output_type": "stream",
     "text": [
      "GPT3-davinci-McRae\n",
      "(1537, 62080)\n",
      "1180416\n"
     ]
    },
    {
     "name": "stderr",
     "output_type": "stream",
     "text": [
      "/home/hannes/anaconda3/envs/features/lib/python3.9/site-packages/sklearn/utils/deprecation.py:87: FutureWarning: Function get_feature_names is deprecated; get_feature_names is deprecated in 1.0 and will be removed in 1.2. Please use get_feature_names_out instead.\n",
      "  warnings.warn(msg, category=FutureWarning)\n"
     ]
    },
    {
     "name": "stdout",
     "output_type": "stream",
     "text": [
      "GPT3-davinci-McRae\n",
      "(1537, 63749)\n",
      "1180416\n"
     ]
    },
    {
     "data": {
      "text/plain": [
       "[<matplotlib.lines.Line2D at 0x7f79f09ab730>]"
      ]
     },
     "execution_count": 20,
     "metadata": {},
     "output_type": "execute_result"
    },
    {
     "data": {
      "image/png": "[encoded data removed]",
      "text/plain": [
       "<Figure size 432x288 with 1 Axes>"
      ]
     },
     "metadata": {
      "needs_background": "light"
     },
     "output_type": "display_data"
    }
   ],
   "source": [
    "r = []\n",
    "for i in range(1, 31):\n",
    "    runs = list(range(1, i+1))\n",
    "    gpt_df_temp = gpt_df[gpt_df['run_nr'].isin(runs)]\n",
    "    gpt_df_temp = gpt_df_temp.groupby('concept_id', as_index=False).agg({'feature': lambda x: ';'.join(x)})\n",
    "    \n",
    "    feature_norm_vec = vectorize_concepts(gpt_df_temp, load_sorting(), 'count')\n",
    "    feature_norm_vec = feature_norm_vec.loc[validation_concepts]\n",
    "    feature_norm_vec = sort_vec(feature_norm_vec)\n",
    "    feature_norms = {\n",
    "        'GPT3-davinci-McRae': feature_norm_vec\n",
    "    }\n",
    "\n",
    "    corr = calc_correlation(feature_norms, behv_sim)\n",
    "    r_gpt_behav = corr['THINGS']['GPT3-davinci-McRae']\n",
    "    r.append(r_gpt_behav)\n",
    "\n",
    "plt.plot(range(1, len(r) + 1), r)"
   ]
  },
  {
   "cell_type": "markdown",
   "id": "8b3c7e62",
   "metadata": {},
   "source": [
    "# Variance Partioning Analyses"
   ]
  },
  {
   "cell_type": "code",
   "execution_count": null,
   "id": "052a5b6b",
   "metadata": {},
   "outputs": [],
   "source": [
    "def vpa(corr_with_things_1, corr_with_things_2, corr_1_with_2):\n",
    "    explained_variance_gpt = calc_semi_partial_correlation(corr_with_things_1, corr_with_things_2, corr_1_with_2)\n",
    "    print('unique variance GPT (partial out McRae): {:.4f}'.format(explained_variance_gpt ** 2))\n",
    "\n",
    "    explained_variance_mc = calc_semi_partial_correlation(corr_with_things_2, corr_with_things_1, corr_1_with_2)\n",
    "    print('unique variance McRae (partial out GPT): {:.4f}'.format(explained_variance_mc ** 2))\n",
    "\n",
    "    shared_variance = (corr_with_things_2 ** 2) - (explained_variance_mc ** 2)\n",
    "    print('shared variance between GPT and McRae: {:.4f}'.format(shared_variance))"
   ]
  },
  {
   "cell_type": "code",
   "execution_count": null,
   "id": "a5fa60d9",
   "metadata": {},
   "outputs": [
    {
     "name": "stdout",
     "output_type": "stream",
     "text": [
      "unique variance GPT (partial out McRae): 0.0862\n",
      "unique variance McRae (partial out GPT): 0.0125\n",
      "shared variance between GPT and McRae: 0.3003\n"
     ]
    }
   ],
   "source": [
    "vpa(corr['THINGS']['GPT-McRae'], corr['THINGS']['McRae'], corr['GPT-McRae']['McRae'])"
   ]
  },
  {
   "cell_type": "code",
   "execution_count": null,
   "id": "5a6b9e3a",
   "metadata": {},
   "outputs": [
    {
     "name": "stdout",
     "output_type": "stream",
     "text": [
      "unique variance GPT (partial out McRae): 0.0039\n",
      "unique variance McRae (partial out GPT): 0.1555\n",
      "shared variance between GPT and McRae: 0.3827\n"
     ]
    }
   ],
   "source": [
    "vpa(corr['THINGS']['GPT-McRae'], corr['THINGS']['CSLB'], corr['GPT-McRae']['CSLB'])"
   ]
  }
 ],
 "metadata": {
  "kernelspec": {
   "display_name": "Python 3 (ipykernel)",
   "language": "python",
   "name": "python3"
  },
  "language_info": {
   "codemirror_mode": {
    "name": "ipython",
    "version": 3
   },
   "file_extension": ".py",
   "mimetype": "text/x-python",
   "name": "python",
   "nbconvert_exporter": "python",
   "pygments_lexer": "ipython3",
   "version": "3.9.7"
  }
 },
 "nbformat": 4,
 "nbformat_minor": 5
}
