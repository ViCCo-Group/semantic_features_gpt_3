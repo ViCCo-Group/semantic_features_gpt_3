{
 "cells": [
  {
   "cell_type": "code",
   "execution_count": null,
   "metadata": {},
   "outputs": [],
   "source": [
    "gpt_df, mc_df, behv_sim, cslb_df, sorting_df = load_data(True, True, 4, 1, None, False, True)"
   ]
  },
  {
   "cell_type": "code",
   "execution_count": null,
   "metadata": {},
   "outputs": [],
   "source": [
    "gpt_df['feature'].hist()"
   ]
  },
  {
   "cell_type": "code",
   "execution_count": null,
   "metadata": {},
   "outputs": [],
   "source": [
    "fig, ax = plt.subplots(1)\n",
    "\n",
    "bla = gpt_df.groupby('feature', as_index=False).agg({'concept_id': 'count'})\n",
    "bla = bla.sort_values(by='concept_id')\n",
    "print(bla)\n",
    "ax.plot(bla['feature'], bla['concept_id'])"
   ]
  },
  {
   "cell_type": "code",
   "execution_count": null,
   "metadata": {},
   "outputs": [],
   "source": [
    "fig, ax = plt.subplots(1)\n",
    "\n",
    "bla = cslb_df.groupby('feature', as_index=False).agg({'concept_id': 'count'})\n",
    "bla = bla.sort_values(by='concept_id')\n",
    "print(bla)\n",
    "ax.plot(bla['feature'], bla['concept_id'])"
   ]
  },
  {
   "cell_type": "code",
   "execution_count": null,
   "metadata": {},
   "outputs": [],
   "source": [
    "fig, ax = plt.subplots(1)\n",
    "\n",
    "bla = mc_df.groupby('feature', as_index=False).agg({'concept_id': 'count'})\n",
    "bla = bla.sort_values(by='concept_id', ascending=False)\n",
    "print(bla)\n",
    "ax.plot(bla['feature'], bla['concept_id'])\n"
   ]
  }
 ],
 "metadata": {
  "language_info": {
   "name": "python"
  },
  "orig_nbformat": 4
 },
 "nbformat": 4,
 "nbformat_minor": 2
}
