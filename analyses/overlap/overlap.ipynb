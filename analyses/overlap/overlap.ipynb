{
 "cells": [
  {
   "cell_type": "code",
   "execution_count": 10,
   "metadata": {},
   "outputs": [],
   "source": [
    "import sys \n",
    "import os \n",
    "\n",
    "sys.path.append('../..')\n",
    "\n",
    "DATA_DIR = '../../data'\n",
    "os.environ['DATA_DIR'] = DATA_DIR\n",
    "\n",
    "from utils.correlation import calc_correlation, vectorize_concepts\n",
    "from utils.data import load_data, load_gpt, load_cslb, load_sorting, load_cslb_count_vec, load_mcrae, generate_concepts_to_keep, match_behv_sim, load_behav\n",
    "import spacy\n",
    "import numpy as np\n",
    "import pandas as pd\n",
    "import matplotlib.pyplot as plt \n",
    "from scipy.spatial.distance import squareform\n",
    "from sklearn.metrics.pairwise import cosine_similarity\n",
    "import seaborn as sns\n",
    "from nltk import ngrams\n",
    "nlp = spacy.load(\"en_core_web_sm\")\n",
    "\n",
    "\n"
   ]
  },
  {
   "cell_type": "code",
   "execution_count": 8,
   "metadata": {},
   "outputs": [
    {
     "name": "stdout",
     "output_type": "stream",
     "text": [
      "../../data\n"
     ]
    },
    {
     "name": "stderr",
     "output_type": "stream",
     "text": [
      "/home/hannes/anaconda3/envs/features/lib/python3.9/site-packages/openpyxl/worksheet/_reader.py:312: UserWarning: Unknown extension is not supported and will be removed\n",
      "  warn(msg)\n"
     ]
    }
   ],
   "source": [
    "gpt_df, mc_df, behv_sim_all, cslb_df, sorting_df, bert_df = load_data(True, True, 4, 1, None, True, 1, True)\n",
    "\n",
    "cslb_df = cslb_df.rename(columns={'feature': 'true_feature'})\n",
    "gpt_df = gpt_df.rename(columns={'feature': 'pred_feature'})"
   ]
  },
  {
   "cell_type": "markdown",
   "metadata": {},
   "source": [
    "# How many human created features are covered? "
   ]
  },
  {
   "cell_type": "code",
   "execution_count": 24,
   "metadata": {},
   "outputs": [
    {
     "data": {
      "text/plain": [
       "count    451.000000\n",
       "mean      26.208215\n",
       "std        8.966586\n",
       "min        0.000000\n",
       "25%       20.000000\n",
       "50%       26.315789\n",
       "75%       32.101695\n",
       "max       56.097561\n",
       "Name: coverage_feature, dtype: float64"
      ]
     },
     "execution_count": 24,
     "metadata": {},
     "output_type": "execute_result"
    }
   ],
   "source": [
    "merged_df = gpt_df.merge(cslb_df, on='concept_id')\n",
    "\n",
    "def calc_sim(row):\n",
    "    test_features_splitted = row.true_feature.split(';')\n",
    "    pred_features_splitted = row.pred_feature.split(';')\n",
    "    count = 0\n",
    "    for true_feature in test_features_splitted:\n",
    "        if true_feature in pred_features_splitted:\n",
    "            count += 1\n",
    "\n",
    "    coverage = count / len(test_features_splitted) * 100\n",
    "    return coverage\n",
    "\n",
    "merged_df['coverage_feature'] = merged_df.apply(calc_sim, axis=1)\n",
    "merged_df['coverage_feature'].describe()"
   ]
  },
  {
   "cell_type": "markdown",
   "metadata": {},
   "source": [
    "# How man ngrams are covered ?"
   ]
  },
  {
   "cell_type": "code",
   "execution_count": 14,
   "metadata": {},
   "outputs": [
    {
     "data": {
      "text/plain": [
       "[('s', 'd', 's', 'd'), ('d', 's', 'd', 's'), ('s', 'd', 's', 'd')]"
      ]
     },
     "execution_count": 14,
     "metadata": {},
     "output_type": "execute_result"
    }
   ],
   "source": [
    "[b for b in ngrams('sdsdsd', n=4)]"
   ]
  },
  {
   "cell_type": "code",
   "execution_count": 25,
   "metadata": {},
   "outputs": [
    {
     "data": {
      "text/plain": [
       "count    451.000000\n",
       "mean      50.055568\n",
       "std        6.683371\n",
       "min       23.122530\n",
       "25%       45.731050\n",
       "50%       49.797571\n",
       "75%       54.730753\n",
       "max       72.025723\n",
       "Name: coverage_ngram, dtype: float64"
      ]
     },
     "execution_count": 25,
     "metadata": {},
     "output_type": "execute_result"
    }
   ],
   "source": [
    "n_ngrams = 4\n",
    "\n",
    "def calc_sim(row):\n",
    "    test_features_splitted = row.true_feature.split(',')\n",
    "    test_set = set()\n",
    "    pred_set = set()\n",
    "    for test_feature in test_features_splitted:\n",
    "        for ngram in ngrams(test_feature, n_ngrams):\n",
    "            test_set.add(ngram)\n",
    "\n",
    "    pred_features_splitted = row.pred_feature.split(',')\n",
    "    for pred_feature in pred_features_splitted:\n",
    "        for ngram in ngrams(pred_feature, n_ngrams):\n",
    "            pred_set.add(ngram)\n",
    "            \n",
    "    count = 0\n",
    "    for true_feature_gram in test_set:\n",
    "        if true_feature_gram in pred_set:\n",
    "            count += 1\n",
    "\n",
    "    coverage = count / len(test_set) * 100\n",
    "    return coverage\n",
    "\n",
    "merged_df['coverage_ngram'] = merged_df.apply(calc_sim, axis=1)\n",
    "merged_df['coverage_ngram'].describe()"
   ]
  },
  {
   "cell_type": "code",
   "execution_count": 32,
   "metadata": {},
   "outputs": [],
   "source": [
    "merged_df = merged_df[['coverage_feature', 'coverage_ngram']]\n",
    "merged_df = merged_df.rename(columns={'coverage_feature': 'Per feature', 'coverage_ngram': 'Per 4-gram'})"
   ]
  },
  {
   "cell_type": "code",
   "execution_count": 34,
   "metadata": {},
   "outputs": [
    {
     "data": {
      "image/png": "[encoded data removed]",
      "text/plain": [
       "<Figure size 432x288 with 1 Axes>"
      ]
     },
     "metadata": {
      "needs_background": "light"
     },
     "output_type": "display_data"
    }
   ],
   "source": [
    "sns.violinplot(data=merged_df, show_mean=True)\n",
    "plt.ylabel('Coverage in the GPT-3 feature norm in %')\n",
    "plt.savefig('coverage.svg')"
   ]
  }
 ],
 "metadata": {
  "interpreter": {
   "hash": "69bbc8a61151a626d9131c945f79b1d3b7a273f7c9919d5e4680ea5234d3a94f"
  },
  "kernelspec": {
   "display_name": "Python 3.9.7 64-bit ('features': conda)",
   "language": "python",
   "name": "python3"
  },
  "language_info": {
   "codemirror_mode": {
    "name": "ipython",
    "version": 3
   },
   "file_extension": ".py",
   "mimetype": "text/x-python",
   "name": "python",
   "nbconvert_exporter": "python",
   "pygments_lexer": "ipython3",
   "version": "3.9.7"
  },
  "orig_nbformat": 4
 },
 "nbformat": 4,
 "nbformat_minor": 2
}
