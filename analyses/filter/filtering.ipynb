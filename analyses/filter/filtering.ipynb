{
 "cells": [
  {
   "cell_type": "code",
   "execution_count": 6,
   "metadata": {},
   "outputs": [],
   "source": [
    "import sys \n",
    "import os \n",
    "\n",
    "sys.path.append('../..')\n",
    "\n",
    "DATA_DIR = '../../data'\n",
    "os.environ['DATA_DIR'] = DATA_DIR\n",
    "\n",
    "from utils.things import calc_correlation, get_all_vectorized, sort_vec, match_behv_sim\n",
    "from utils.correlation import calc_semi_partial_correlation\n",
    "from utils.data import load_gpt, load_cslb, load_mcrae, load_behav\n",
    "from utils.stats import stats\n",
    "import matplotlib.pyplot as plt \n",
    "\n",
    "from utils.correlation import get_similiarity_vector\n",
    "from utils.vectorization import vectorize_concepts\n",
    "from utils.data import load_cslb_count_vec, load_sorting\n",
    "from utils.feature_norms import generate_concepts_to_keep "
   ]
  },
  {
   "cell_type": "code",
   "execution_count": 7,
   "metadata": {},
   "outputs": [
    {
     "name": "stdout",
     "output_type": "stream",
     "text": [
      "../../data\n"
     ]
    },
    {
     "name": "stderr",
     "output_type": "stream",
     "text": [
      "/home/hannes/anaconda3/envs/features/lib/python3.9/site-packages/openpyxl/worksheet/_reader.py:312: UserWarning: Unknown extension is not supported and will be removed\n",
      "  warn(msg)\n"
     ]
    }
   ],
   "source": [
    "group_to_one_concept = True\n",
    "duplicates = True \n",
    "min_amount_runs_feature_occured = 4\n",
    "min_amount_runs_feature_occured_within_concept = 1\n",
    "\n",
    "# 317 objects are used to calculate similarities\n",
    "feature_norms = {\n",
    "    'McRae': load_mcrae(group_to_one_concept, duplicates),\n",
    "    'CSLB': load_cslb(group_to_one_concept),\n",
    "    'GPT3-davinci-McRae': load_gpt(min_amount_runs_feature_occured, group_to_one_concept, min_amount_runs_feature_occured_within_concept, duplicates, 'mcrae_priming', 'gpt3-davinci'),    \n",
    "}\n"
   ]
  },
  {
   "cell_type": "code",
   "execution_count": 8,
   "metadata": {},
   "outputs": [
    {
     "name": "stdout",
     "output_type": "stream",
     "text": [
      "1537 concepts are present in all feature norms\n"
     ]
    }
   ],
   "source": [
    "# Use concepts that are not used in the final comparison\n",
    "validation_concepts = generate_concepts_to_keep(feature_norms, 'excl_cslb_mcrae')\n",
    "behav_sim = load_behav()"
   ]
  },
  {
   "cell_type": "markdown",
   "metadata": {},
   "source": [
    "### How does the number of runs a featured occured influence the similarity with THINGS?"
   ]
  },
  {
   "cell_type": "code",
   "execution_count": 9,
   "metadata": {},
   "outputs": [
    {
     "name": "stdout",
     "output_type": "stream",
     "text": [
      "Amount of features: 424770\n",
      "Amount of concepts: 1537\n",
      "Amount of unique features: 58611\n",
      "Mean amount of feature per concept: 276.363044892648\n",
      "Share of unique features to all features: 13.798290839748569\n",
      "Mean amount of concepts per feature: 7.247274402415929\n",
      "Mean amount of shared features per concept: 243.16590761223162\n",
      "GPT3-davinci-McRae\n",
      "(1537, 58611)\n",
      "1180416\n",
      "Amount of features: 386349\n",
      "Amount of concepts: 1537\n",
      "Amount of unique features: 22538\n",
      "Mean amount of feature per concept: 251.36564736499676\n",
      "Share of unique features to all features: 5.833585695834595\n",
      "Mean amount of concepts per feature: 17.142115538202148\n",
      "Mean amount of shared features per concept: 241.74495770982432\n"
     ]
    },
    {
     "name": "stderr",
     "output_type": "stream",
     "text": [
      "/home/hannes/anaconda3/envs/features/lib/python3.9/site-packages/sklearn/utils/deprecation.py:87: FutureWarning: Function get_feature_names is deprecated; get_feature_names is deprecated in 1.0 and will be removed in 1.2. Please use get_feature_names_out instead.\n",
      "  warnings.warn(msg, category=FutureWarning)\n"
     ]
    },
    {
     "name": "stdout",
     "output_type": "stream",
     "text": [
      "GPT3-davinci-McRae\n",
      "(1537, 22538)\n",
      "1180416\n",
      "Amount of features: 370342\n",
      "Amount of concepts: 1537\n",
      "Amount of unique features: 14994\n",
      "Mean amount of feature per concept: 240.9512036434613\n",
      "Share of unique features to all features: 4.048690129663933\n",
      "Mean amount of concepts per feature: 24.69934640522876\n",
      "Mean amount of shared features per concept: 239.99739752765126\n"
     ]
    },
    {
     "name": "stderr",
     "output_type": "stream",
     "text": [
      "/home/hannes/anaconda3/envs/features/lib/python3.9/site-packages/sklearn/utils/deprecation.py:87: FutureWarning: Function get_feature_names is deprecated; get_feature_names is deprecated in 1.0 and will be removed in 1.2. Please use get_feature_names_out instead.\n",
      "  warnings.warn(msg, category=FutureWarning)\n"
     ]
    },
    {
     "name": "stdout",
     "output_type": "stream",
     "text": [
      "GPT3-davinci-McRae\n",
      "(1537, 14994)\n",
      "1180416\n",
      "Amount of features: 359262\n",
      "Amount of concepts: 1537\n",
      "Amount of unique features: 11527\n",
      "Mean amount of feature per concept: 233.7423552374756\n",
      "Share of unique features to all features: 3.208521914368901\n",
      "Mean amount of concepts per feature: 31.16699921922443\n",
      "Mean amount of shared features per concept: 233.34873129473\n"
     ]
    },
    {
     "name": "stderr",
     "output_type": "stream",
     "text": [
      "/home/hannes/anaconda3/envs/features/lib/python3.9/site-packages/sklearn/utils/deprecation.py:87: FutureWarning: Function get_feature_names is deprecated; get_feature_names is deprecated in 1.0 and will be removed in 1.2. Please use get_feature_names_out instead.\n",
      "  warnings.warn(msg, category=FutureWarning)\n"
     ]
    },
    {
     "name": "stdout",
     "output_type": "stream",
     "text": [
      "GPT3-davinci-McRae\n",
      "(1537, 11527)\n",
      "1180416\n",
      "Amount of features: 349985\n",
      "Amount of concepts: 1537\n",
      "Amount of unique features: 9397\n",
      "Mean amount of feature per concept: 227.70657124268055\n",
      "Share of unique features to all features: 2.6849722130948472\n",
      "Mean amount of concepts per feature: 37.24433329786102\n",
      "Mean amount of shared features per concept: 227.48340923877683\n"
     ]
    },
    {
     "name": "stderr",
     "output_type": "stream",
     "text": [
      "/home/hannes/anaconda3/envs/features/lib/python3.9/site-packages/sklearn/utils/deprecation.py:87: FutureWarning: Function get_feature_names is deprecated; get_feature_names is deprecated in 1.0 and will be removed in 1.2. Please use get_feature_names_out instead.\n",
      "  warnings.warn(msg, category=FutureWarning)\n"
     ]
    },
    {
     "name": "stdout",
     "output_type": "stream",
     "text": [
      "GPT3-davinci-McRae\n",
      "(1537, 9397)\n",
      "1180416\n",
      "Amount of features: 341756\n",
      "Amount of concepts: 1537\n",
      "Amount of unique features: 7906\n",
      "Mean amount of feature per concept: 222.35263500325308\n",
      "Share of unique features to all features: 2.313346364072613\n",
      "Mean amount of concepts per feature: 43.227422210979\n",
      "Mean amount of shared features per concept: 222.21665582303189\n"
     ]
    },
    {
     "name": "stderr",
     "output_type": "stream",
     "text": [
      "/home/hannes/anaconda3/envs/features/lib/python3.9/site-packages/sklearn/utils/deprecation.py:87: FutureWarning: Function get_feature_names is deprecated; get_feature_names is deprecated in 1.0 and will be removed in 1.2. Please use get_feature_names_out instead.\n",
      "  warnings.warn(msg, category=FutureWarning)\n"
     ]
    },
    {
     "name": "stdout",
     "output_type": "stream",
     "text": [
      "GPT3-davinci-McRae\n",
      "(1537, 7906)\n",
      "1180416\n",
      "Amount of features: 334375\n",
      "Amount of concepts: 1537\n",
      "Amount of unique features: 6874\n",
      "Mean amount of feature per concept: 217.55042290175666\n",
      "Share of unique features to all features: 2.0557757009345794\n",
      "Mean amount of concepts per feature: 48.64343904567937\n",
      "Mean amount of shared features per concept: 217.45933636955107\n"
     ]
    },
    {
     "name": "stderr",
     "output_type": "stream",
     "text": [
      "/home/hannes/anaconda3/envs/features/lib/python3.9/site-packages/sklearn/utils/deprecation.py:87: FutureWarning: Function get_feature_names is deprecated; get_feature_names is deprecated in 1.0 and will be removed in 1.2. Please use get_feature_names_out instead.\n",
      "  warnings.warn(msg, category=FutureWarning)\n"
     ]
    },
    {
     "name": "stdout",
     "output_type": "stream",
     "text": [
      "GPT3-davinci-McRae\n",
      "(1537, 6874)\n",
      "1180416\n",
      "Amount of features: 327175\n",
      "Amount of concepts: 1537\n",
      "Amount of unique features: 5998\n",
      "Mean amount of feature per concept: 212.86597267404034\n",
      "Share of unique features to all features: 1.833269656911439\n",
      "Mean amount of concepts per feature: 54.547349116372125\n",
      "Mean amount of shared features per concept: 212.80351333767078\n"
     ]
    },
    {
     "name": "stderr",
     "output_type": "stream",
     "text": [
      "/home/hannes/anaconda3/envs/features/lib/python3.9/site-packages/sklearn/utils/deprecation.py:87: FutureWarning: Function get_feature_names is deprecated; get_feature_names is deprecated in 1.0 and will be removed in 1.2. Please use get_feature_names_out instead.\n",
      "  warnings.warn(msg, category=FutureWarning)\n"
     ]
    },
    {
     "name": "stdout",
     "output_type": "stream",
     "text": [
      "GPT3-davinci-McRae\n",
      "(1537, 5998)\n",
      "1180416\n",
      "Amount of features: 321215\n",
      "Amount of concepts: 1537\n",
      "Amount of unique features: 5340\n",
      "Mean amount of feature per concept: 208.9882888744307\n",
      "Share of unique features to all features: 1.6624379309808073\n",
      "Mean amount of concepts per feature: 60.15262172284644\n",
      "Mean amount of shared features per concept: 208.94795055302538\n"
     ]
    },
    {
     "name": "stderr",
     "output_type": "stream",
     "text": [
      "/home/hannes/anaconda3/envs/features/lib/python3.9/site-packages/sklearn/utils/deprecation.py:87: FutureWarning: Function get_feature_names is deprecated; get_feature_names is deprecated in 1.0 and will be removed in 1.2. Please use get_feature_names_out instead.\n",
      "  warnings.warn(msg, category=FutureWarning)\n"
     ]
    },
    {
     "name": "stdout",
     "output_type": "stream",
     "text": [
      "GPT3-davinci-McRae\n",
      "(1537, 5340)\n",
      "1180416\n"
     ]
    }
   ],
   "source": [
    "min_amount_runs_feature_occured = 1\n",
    "group_to_one_concept = False\n",
    "min_amount_runs_feature_occured_within_concept = 1\n",
    "duplicates = True \n",
    "\n",
    "gpt_df = load_gpt(min_amount_runs_feature_occured, group_to_one_concept, min_amount_runs_feature_occured_within_concept, duplicates, 'mcrae_priming', 'gpt3-davinci')\n",
    "behv_sim = match_behv_sim(behav_sim, validation_concepts, load_sorting())\n",
    "\n",
    "r = []\n",
    "all_n_features = []\n",
    "all_n_unique_features = []\n",
    "\n",
    "for i in range(1, 10):\n",
    "    gpt_df_temp = gpt_df[gpt_df['amount_runs_feature_occured'] >= i]\n",
    "    gpt_df_temp = gpt_df_temp[gpt_df_temp['concept_id'].isin(validation_concepts)]\n",
    "\n",
    "    n_features, n_concepts, n_unique_features, mean_amount_features_per_concept, mean_amount_of_concepts_per_feature, mean_amount_shared_features_per_concept = stats(gpt_df_temp)\n",
    "    all_n_features.append(n_features)\n",
    "    all_n_unique_features.append(n_unique_features)\n",
    "\n",
    "    gpt_df_temp = gpt_df_temp.groupby('concept_id', as_index=False).agg({'feature': lambda x: ';'.join(x)})\n",
    "\n",
    "    feature_norm_vec = vectorize_concepts(gpt_df_temp, load_sorting(), 'count')\n",
    "    #feature_norm_vec = feature_norm_vec.loc[validation_concepts]\n",
    "    feature_norm_vec = sort_vec(feature_norm_vec)\n",
    "    feature_norms = {\n",
    "        'GPT3-davinci-McRae': feature_norm_vec\n",
    "    }\n",
    "\n",
    "    corr = calc_correlation(feature_norms, behv_sim)\n",
    "    r_gpt_behav = corr['THINGS']['GPT3-davinci-McRae']\n",
    "    r.append(r_gpt_behav)\n"
   ]
  },
  {
   "cell_type": "code",
   "execution_count": 1,
   "metadata": {},
   "outputs": [
    {
     "ename": "NameError",
     "evalue": "name 'plt' is not defined",
     "output_type": "error",
     "traceback": [
      "\u001b[0;31m---------------------------------------------------------------------------\u001b[0m",
      "\u001b[0;31mNameError\u001b[0m                                 Traceback (most recent call last)",
      "\u001b[0;32m/tmp/ipykernel_13597/3516971684.py\u001b[0m in \u001b[0;36m<module>\u001b[0;34m\u001b[0m\n\u001b[0;32m----> 1\u001b[0;31m \u001b[0mfig\u001b[0m\u001b[0;34m,\u001b[0m \u001b[0maxes\u001b[0m \u001b[0;34m=\u001b[0m \u001b[0mplt\u001b[0m\u001b[0;34m.\u001b[0m\u001b[0msubplots\u001b[0m\u001b[0;34m(\u001b[0m\u001b[0;36m2\u001b[0m\u001b[0;34m,\u001b[0m \u001b[0mfigsize\u001b[0m\u001b[0;34m=\u001b[0m\u001b[0;34m(\u001b[0m\u001b[0;36m10\u001b[0m\u001b[0;34m,\u001b[0m\u001b[0;36m10\u001b[0m\u001b[0;34m)\u001b[0m\u001b[0;34m,\u001b[0m \u001b[0msharex\u001b[0m\u001b[0;34m=\u001b[0m\u001b[0;32mTrue\u001b[0m\u001b[0;34m)\u001b[0m\u001b[0;34m\u001b[0m\u001b[0;34m\u001b[0m\u001b[0m\n\u001b[0m\u001b[1;32m      2\u001b[0m \u001b[0maxes\u001b[0m\u001b[0;34m[\u001b[0m\u001b[0;36m1\u001b[0m\u001b[0;34m]\u001b[0m\u001b[0;34m.\u001b[0m\u001b[0mset_xlabel\u001b[0m\u001b[0;34m(\u001b[0m\u001b[0;34m'Number of runs a feature has to occur'\u001b[0m\u001b[0;34m)\u001b[0m\u001b[0;34m\u001b[0m\u001b[0;34m\u001b[0m\u001b[0m\n\u001b[1;32m      3\u001b[0m \u001b[0;34m\u001b[0m\u001b[0m\n\u001b[1;32m      4\u001b[0m \u001b[0mn\u001b[0m \u001b[0;34m=\u001b[0m \u001b[0mrange\u001b[0m\u001b[0;34m(\u001b[0m\u001b[0;36m1\u001b[0m\u001b[0;34m,\u001b[0m \u001b[0mlen\u001b[0m\u001b[0;34m(\u001b[0m\u001b[0mr\u001b[0m\u001b[0;34m)\u001b[0m \u001b[0;34m+\u001b[0m \u001b[0;36m1\u001b[0m\u001b[0;34m)\u001b[0m\u001b[0;34m\u001b[0m\u001b[0;34m\u001b[0m\u001b[0m\n\u001b[1;32m      5\u001b[0m \u001b[0;34m\u001b[0m\u001b[0m\n",
      "\u001b[0;31mNameError\u001b[0m: name 'plt' is not defined"
     ]
    }
   ],
   "source": [
    "fig, axes = plt.subplots(2, figsize=(10,10), sharex=True)\n",
    "axes[1].set_xlabel('Number of runs a feature has to occur')\n",
    "\n",
    "n = range(1, len(r) + 1)\n",
    "\n",
    "axes[0].scatter(n, r)\n",
    "axes[0].set_ylabel('Pearson r with THINGS on valdiation concetps')\n",
    "\n",
    "axes[1].scatter(n, all_n_unique_features)\n",
    "axes[1].set_ylabel('Number of unique features')\n",
    "\n"
   ]
  }
 ],
 "metadata": {
  "interpreter": {
   "hash": "69bbc8a61151a626d9131c945f79b1d3b7a273f7c9919d5e4680ea5234d3a94f"
  },
  "kernelspec": {
   "display_name": "Python 3.9.7 64-bit ('features': conda)",
   "language": "python",
   "name": "python3"
  },
  "language_info": {
   "codemirror_mode": {
    "name": "ipython",
    "version": 3
   },
   "file_extension": ".py",
   "mimetype": "text/x-python",
   "name": "python",
   "nbconvert_exporter": "python",
   "pygments_lexer": "ipython3",
   "version": "3.9.7"
  },
  "orig_nbformat": 4
 },
 "nbformat": 4,
 "nbformat_minor": 2
}
