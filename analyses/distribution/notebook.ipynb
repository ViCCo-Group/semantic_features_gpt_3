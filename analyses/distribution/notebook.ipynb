{
 "cells": [
  {
   "cell_type": "code",
   "execution_count": 1,
   "id": "1228e4cb",
   "metadata": {},
   "outputs": [
    {
     "name": "stderr",
     "output_type": "stream",
     "text": [
      "2022-09-15 23:30:44.878237: W tensorflow/stream_executor/platform/default/dso_loader.cc:64] Could not load dynamic library 'libcudart.so.11.0'; dlerror: libcudart.so.11.0: cannot open shared object file: No such file or directory\n",
      "2022-09-15 23:30:44.878274: I tensorflow/stream_executor/cuda/cudart_stub.cc:29] Ignore above cudart dlerror if you do not have a GPU set up on your machine.\n"
     ]
    }
   ],
   "source": [
    "import sys \n",
    "import os \n",
    "\n",
    "sys.path.append('../..')\n",
    "\n",
    "DATA_DIR = '../../data'\n",
    "os.environ['DATA_DIR'] = DATA_DIR\n",
    "\n",
    "from utils.correlation import calc_correlation, vectorize_concepts\n",
    "from utils.data import load_data, load_gpt, load_cslb, load_sorting, load_cslb_count_vec, load_mcrae, generate_concepts_to_keep, match_behv_sim, load_behav\n",
    "\n",
    "import spacy\n",
    "import numpy as np\n",
    "import pandas as pd\n",
    "import matplotlib.pyplot as plt \n",
    "\n",
    "from scipy.spatial.distance import squareform\n",
    "from sklearn.metrics.pairwise import cosine_similarity\n",
    "import seaborn as sns\n",
    "import scipy\n",
    "\n",
    "nlp = spacy.load(\"en_core_web_sm\")\n",
    "\n",
    "DATA_DIR = 'labels'"
   ]
  },
  {
   "cell_type": "markdown",
   "id": "4f795323",
   "metadata": {},
   "source": [
    "# Label Distribution"
   ]
  },
  {
   "cell_type": "code",
   "execution_count": 2,
   "id": "55e02bc6",
   "metadata": {},
   "outputs": [
    {
     "ename": "NameError",
     "evalue": "name 'get_feature_label' is not defined",
     "output_type": "error",
     "traceback": [
      "\u001b[0;31m---------------------------------------------------------------------------\u001b[0m",
      "\u001b[0;31mNameError\u001b[0m                                 Traceback (most recent call last)",
      "\u001b[0;32m/tmp/ipykernel_8959/4019568101.py\u001b[0m in \u001b[0;36m<module>\u001b[0;34m\u001b[0m\n\u001b[1;32m      4\u001b[0m \u001b[0ma\u001b[0m \u001b[0;34m=\u001b[0m \u001b[0ma\u001b[0m\u001b[0;34m[\u001b[0m\u001b[0;34m:\u001b[0m\u001b[0;36m5\u001b[0m\u001b[0;34m]\u001b[0m\u001b[0;34m\u001b[0m\u001b[0;34m\u001b[0m\u001b[0m\n\u001b[1;32m      5\u001b[0m \u001b[0ma\u001b[0m\u001b[0;34m[\u001b[0m\u001b[0;34m'feature'\u001b[0m\u001b[0;34m]\u001b[0m \u001b[0;34m=\u001b[0m \u001b[0ma\u001b[0m\u001b[0;34m[\u001b[0m\u001b[0;34m'feature'\u001b[0m\u001b[0;34m]\u001b[0m\u001b[0;34m.\u001b[0m\u001b[0mapply\u001b[0m\u001b[0;34m(\u001b[0m\u001b[0;32mlambda\u001b[0m \u001b[0mfeature\u001b[0m\u001b[0;34m:\u001b[0m \u001b[0mfeature\u001b[0m\u001b[0;34m.\u001b[0m\u001b[0mreplace\u001b[0m\u001b[0;34m(\u001b[0m\u001b[0;34m'_'\u001b[0m\u001b[0;34m,\u001b[0m \u001b[0;34m' '\u001b[0m\u001b[0;34m)\u001b[0m\u001b[0;34m)\u001b[0m\u001b[0;34m\u001b[0m\u001b[0;34m\u001b[0m\u001b[0m\n\u001b[0;32m----> 6\u001b[0;31m \u001b[0ma\u001b[0m\u001b[0;34m[\u001b[0m\u001b[0;34m'label'\u001b[0m\u001b[0;34m]\u001b[0m \u001b[0;34m=\u001b[0m \u001b[0ma\u001b[0m\u001b[0;34m[\u001b[0m\u001b[0;34m'feature'\u001b[0m\u001b[0;34m]\u001b[0m\u001b[0;34m.\u001b[0m\u001b[0mapply\u001b[0m\u001b[0;34m(\u001b[0m\u001b[0mget_feature_label\u001b[0m\u001b[0;34m)\u001b[0m\u001b[0;34m\u001b[0m\u001b[0;34m\u001b[0m\u001b[0m\n\u001b[0m\u001b[1;32m      7\u001b[0m \u001b[0;34m\u001b[0m\u001b[0m\n\u001b[1;32m      8\u001b[0m \u001b[0ma\u001b[0m\u001b[0;34m\u001b[0m\u001b[0;34m\u001b[0m\u001b[0m\n",
      "\u001b[0;31mNameError\u001b[0m: name 'get_feature_label' is not defined"
     ]
    }
   ],
   "source": [
    "cslb_df = load_cslb_count_vec()\n",
    "a = pd.DataFrame(cslb_df.loc['dog']).reset_index().rename(columns={'index': 'feature', 'dog': 'amount'})\n",
    "a = a.sort_values(by='amount', ascending=False)\n",
    "a = a[:5]\n",
    "a['feature'] = a['feature'].apply(lambda feature: feature.replace('_', ' '))\n",
    "a['label'] = a['feature'].apply(get_feature_label)\n",
    "\n",
    "a"
   ]
  },
  {
   "cell_type": "code",
   "execution_count": 4,
   "id": "1e534d98",
   "metadata": {},
   "outputs": [],
   "source": [
    "colors = {\n",
    "    'encyclopaedic': '#93C47D',\n",
    "    'functional': '#FFD966',\n",
    "    'conceptual': '#6D9EEB',\n",
    "    'other perceptual': '#FF00FF',\n",
    "    'visual': '#DD7E6B',\n",
    "    'taxonomic': '#F6B26B' \n",
    "}\n"
   ]
  },
  {
   "cell_type": "code",
   "execution_count": 5,
   "id": "9e6b56de",
   "metadata": {},
   "outputs": [],
   "source": [
    "gpt_label_df = pd.read_csv('labels/gpt.csv')\n",
    "cslb_label_df = pd.read_csv('labels/cslb.csv')\n",
    "mc_label_df = pd.read_csv('labels/mc.csv')"
   ]
  },
  {
   "cell_type": "markdown",
   "id": "80b9bb8e",
   "metadata": {},
   "source": [
    "# Test distribution GPT-3 and CSLB"
   ]
  },
  {
   "cell_type": "code",
   "execution_count": 6,
   "id": "6bc58c53",
   "metadata": {},
   "outputs": [
    {
     "name": "stdout",
     "output_type": "stream",
     "text": [
      "Power_divergenceResult(statistic=array([1085.01629315]), pvalue=array([2.34897824e-232]))\n"
     ]
    }
   ],
   "source": [
    "gpt_contigence = gpt_label_df.groupby('label').count()\n",
    "cslb_contigence = cslb_label_df.groupby('label').count()\n",
    "\n",
    "a = scipy.stats.chisquare(gpt_contigence, cslb_contigence)\n",
    "print(a)"
   ]
  },
  {
   "cell_type": "code",
   "execution_count": 7,
   "id": "80aea13e",
   "metadata": {},
   "outputs": [],
   "source": [
    "def plot(hist, ax, confs):\n",
    "    for value,count in hist.items():\n",
    "        x = []\n",
    "        y = []\n",
    "        label = str(value)\n",
    "        x.append(label)\n",
    "        y.append(count)\n",
    "        conf = confs[value]\n",
    "        \n",
    "        ax.bar(x, y, color=colors[label], yerr=[conf])\n",
    "        #ymin, ymax = 0, 0.6\n",
    "        #ax.set_ylim(ymin, ymax)"
   ]
  },
  {
   "cell_type": "code",
   "execution_count": null,
   "id": "cbfa9c01",
   "metadata": {},
   "outputs": [
    {
     "ename": "ModuleNotFoundError",
     "evalue": "No module named 'evaluation'",
     "output_type": "error",
     "traceback": [
      "\u001b[0;31m---------------------------------------------------------------------------\u001b[0m",
      "\u001b[0;31mModuleNotFoundError\u001b[0m                       Traceback (most recent call last)",
      "\u001b[0;32m/tmp/ipykernel_8830/1551569187.py\u001b[0m in \u001b[0;36m<module>\u001b[0;34m\u001b[0m\n\u001b[1;32m      2\u001b[0m \u001b[0;32mfrom\u001b[0m \u001b[0mskimage\u001b[0m \u001b[0;32mimport\u001b[0m \u001b[0mio\u001b[0m\u001b[0;34m\u001b[0m\u001b[0;34m\u001b[0m\u001b[0m\n\u001b[1;32m      3\u001b[0m \u001b[0;32mimport\u001b[0m \u001b[0mcv2\u001b[0m\u001b[0;34m\u001b[0m\u001b[0;34m\u001b[0m\u001b[0m\n\u001b[0;32m----> 4\u001b[0;31m \u001b[0;32mfrom\u001b[0m \u001b[0mevaluation\u001b[0m\u001b[0;34m.\u001b[0m\u001b[0mlabels\u001b[0m \u001b[0;32mimport\u001b[0m \u001b[0mget_feature_label\u001b[0m\u001b[0;34m\u001b[0m\u001b[0;34m\u001b[0m\u001b[0m\n\u001b[0m\u001b[1;32m      5\u001b[0m \u001b[0;32mfrom\u001b[0m \u001b[0mmatplotlib\u001b[0m\u001b[0;34m.\u001b[0m\u001b[0mpyplot\u001b[0m \u001b[0;32mimport\u001b[0m \u001b[0mimshow\u001b[0m\u001b[0;34m,\u001b[0m \u001b[0mtext\u001b[0m\u001b[0;34m\u001b[0m\u001b[0;34m\u001b[0m\u001b[0m\n\u001b[1;32m      6\u001b[0m \u001b[0;32mimport\u001b[0m \u001b[0mstatistics\u001b[0m\u001b[0;34m\u001b[0m\u001b[0;34m\u001b[0m\u001b[0m\n",
      "\u001b[0;31mModuleNotFoundError\u001b[0m: No module named 'evaluation'"
     ]
    }
   ],
   "source": [
    "%matplotlib inline\n",
    "from skimage import io\n",
    "import cv2\n",
    "from evaluation.labels import get_feature_label\n",
    "from matplotlib.pyplot import imshow, text\n",
    "import statistics\n",
    "from math import sqrt\n",
    "from collections import defaultdict\n",
    "\n",
    "fig, axes = plt.subplots(1,3,figsize=(30,5), sharey=True)\n",
    "\n",
    "def get_confidence_interval(df):\n",
    "    values = {\n",
    "        'encyclopaedic': [],\n",
    "        'functional': [],\n",
    "        'conceptual': [], \n",
    "        'taxonomic': [],\n",
    "        'visual': [],\n",
    "        'other perceptual': []\n",
    "    }\n",
    "    confs = defaultdict()\n",
    "    means = defaultdict()\n",
    "\n",
    "    for i in range(1000):\n",
    "        sample = df.sample(1000, replace=True)\n",
    "        hist = sample['label'].value_counts(dropna=False, normalize=True)\n",
    "        hist = hist.apply(lambda value: value * 100)\n",
    "        for label in values:\n",
    "            if label in hist:\n",
    "                values[label].append(hist.loc[label])\n",
    "\n",
    "    for label, label_values in values.items():\n",
    "        mean = statistics.mean(label_values)\n",
    "        means[label] = mean\n",
    "        stdev = statistics.stdev(label_values)\n",
    "        confidence_interval = 2.575 * stdev / sqrt(len(label_values))\n",
    "        conf = confidence_interval\n",
    "        confs[label] = conf\n",
    "\n",
    "    return confs, means\n",
    "    \n",
    "\n",
    "def plot_bar(df, ax, title):\n",
    "    fontsize = 25\n",
    "    hist = df['label'].value_counts(dropna=False, normalize=True)\n",
    "    hist = hist.apply(lambda value: value * 100)\n",
    "    confs, means = get_confidence_interval(df)\n",
    "    plot(means, ax, confs)\n",
    "    print(confs)\n",
    "\n",
    "    ax.set_title(title, fontsize=fontsize)\n",
    "    ax.set_xlabel('Feature label', fontsize=fontsize)\n",
    "    ax.tick_params(labelsize=12)\n",
    "\n",
    "\n",
    "plot_bar(gpt_label_df, axes[2], 'GPT-3 (our approach)')\n",
    "plot_bar(cslb_label_df, axes[1], 'CSLB (human generated)')\n",
    "plot_bar(mc_label_df, axes[0], 'McRae (human generated)')\n",
    "\n",
    "\n",
    "fig.savefig('labels.svg')\n",
    "plt.show()"
   ]
  },
  {
   "cell_type": "code",
   "execution_count": 8,
   "id": "d5ea3a47",
   "metadata": {},
   "outputs": [
    {
     "data": {
      "image/png": "[encoded data removed]",
      "text/plain": [
       "<Figure size 2160x360 with 3 Axes>"
      ]
     },
     "metadata": {
      "needs_background": "light"
     },
     "output_type": "display_data"
    }
   ],
   "source": [
    "%matplotlib inline\n",
    "from skimage import io\n",
    "import cv2\n",
    "from matplotlib.pyplot import imshow, text\n",
    "import statistics\n",
    "from math import sqrt\n",
    "from collections import defaultdict\n",
    "\n",
    "fig, axes = plt.subplots(1,3,figsize=(30,5), sharey=True)\n",
    "\n",
    "def get_confidence_interval(df):\n",
    "    values = {\n",
    "        'encyclopaedic': [],\n",
    "        'functional': [],\n",
    "        'conceptual': [], \n",
    "        'taxonomic': [],\n",
    "        'visual': [],\n",
    "        'other perceptual': []\n",
    "    }\n",
    "    confs = defaultdict()\n",
    "\n",
    "    for i in range(1000):\n",
    "        sample = df.sample(df.shape[0], replace=True)\n",
    "        hist = sample['label'].value_counts(dropna=False, normalize=True)\n",
    "        hist = hist.apply(lambda value: value * 100)\n",
    "        for label in values:\n",
    "            if label in hist:\n",
    "                values[label].append(hist.loc[label])\n",
    "\n",
    "    for label, label_values in values.items():\n",
    "        stdev = statistics.stdev(label_values)\n",
    "        confidence_interval = 1.96 * stdev \n",
    "        confs[label] = confidence_interval\n",
    "\n",
    "    return confs\n",
    "    \n",
    "\n",
    "def plot_bar(df, ax, title):\n",
    "    fontsize = 25\n",
    "    hist = df['label'].value_counts(dropna=False, normalize=True)\n",
    "    hist = hist.apply(lambda value: value * 100)\n",
    "    confs = get_confidence_interval(df)\n",
    "\n",
    "    plot(hist, ax, confs)\n",
    "\n",
    "    ax.set_title(title, fontsize=fontsize)\n",
    "    ax.set_xlabel('Feature label', fontsize=fontsize)\n",
    "    ax.tick_params(labelsize=12)\n",
    "\n",
    "\n",
    "plot_bar(gpt_label_df, axes[2], 'GPT-3 (our approach)')\n",
    "plot_bar(cslb_label_df, axes[1], 'CSLB (human generated)')\n",
    "plot_bar(mc_label_df, axes[0], 'McRae (human generated)')\n",
    "\n",
    "\n",
    "fig.savefig('labels.svg')\n",
    "plt.show()"
   ]
  }
 ],
 "metadata": {
  "kernelspec": {
   "display_name": "Python 3 (ipykernel)",
   "language": "python",
   "name": "python3"
  },
  "language_info": {
   "codemirror_mode": {
    "name": "ipython",
    "version": 3
   },
   "file_extension": ".py",
   "mimetype": "text/x-python",
   "name": "python",
   "nbconvert_exporter": "python",
   "pygments_lexer": "ipython3",
   "version": "3.9.7"
  }
 },
 "nbformat": 4,
 "nbformat_minor": 5
}
