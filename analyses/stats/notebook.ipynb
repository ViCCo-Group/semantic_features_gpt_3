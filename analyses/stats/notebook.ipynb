{
 "cells": [
  {
   "cell_type": "code",
   "execution_count": null,
   "metadata": {},
   "outputs": [],
   "source": [
    "import sys \n",
    "import os \n",
    "\n",
    "sys.path.append('../..')\n",
    "\n",
    "DATA_DIR = '../../data'\n",
    "os.environ['DATA_DIR'] = DATA_DIR\n",
    "\n",
    "from utils.data import load_data, load_gpt, load_cslb, load_sorting, load_mcrae\n",
    "from utils.analyses.stats.stats import stats\n",
    "import spacy\n",
    "nlp = spacy.load(\"en_core_web_sm\")"
   ]
  },
  {
   "cell_type": "code",
   "execution_count": null,
   "metadata": {},
   "outputs": [],
   "source": [
    "cslb_df = load_cslb(False)\n",
    "gpt_df = load_gpt(1, False, 1,1, True)\n",
    "mc_df = load_mcrae(False, False)\n",
    "\n",
    "print('Stats for CSLB')\n",
    "stats(cslb_df)\n",
    "print('\\n')\n",
    "\n",
    "print('Stats for GPT with duplicates')\n",
    "stats(gpt_df)\n",
    "print('\\n')\n",
    "\n",
    "print('Stats for GPT without duplicates')\n",
    "gpt_df_without_dup = load_gpt(4, False, 1, 1, False)\n",
    "stats(gpt_df_without_dup)\n",
    "print('\\n')\n",
    "\n",
    "print('Stats for GPT without duplicates and no filter')\n",
    "gpt_df_without_dup_no = load_gpt(1, False, 1, 1, False)\n",
    "stats(gpt_df_without_dup_no)\n",
    "print('\\n')\n",
    "\n",
    "print('Stats for McRae without duplicates')\n",
    "stats(mc_df)\n"
   ]
  }
 ],
 "metadata": {
  "language_info": {
   "name": "python"
  },
  "orig_nbformat": 4
 },
 "nbformat": 4,
 "nbformat_minor": 2
}
